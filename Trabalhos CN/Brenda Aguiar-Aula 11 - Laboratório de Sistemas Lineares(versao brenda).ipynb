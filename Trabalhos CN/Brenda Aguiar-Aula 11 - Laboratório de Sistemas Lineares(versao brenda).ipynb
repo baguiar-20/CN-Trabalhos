{
 "cells": [
  {
   "cell_type": "markdown",
   "metadata": {
    "colab_type": "text",
    "id": "Nt1CAu_yKm2_"
   },
   "source": [
    "# Métodos para Resolução de Sistemas Lineares #\n",
    "\n",
    "Nesta aula, iremos implementar métodos para encontrar vetores de solução $x$ para sistemas lineares no formato $Ax=b$.\n",
    "\n",
    "# Preliminares #\n",
    "\n",
    "### Resolvendo sistemas triangulares ###\n",
    "\n",
    "Normalmente, para resolver sistemas lineares, precisamos chegar de alguma forma a sistemas triangulares (inferiores ou superiores). Por que? Porque eles podem ser resolvidos pelo método das substituições retroativas.\n",
    "\n",
    "\n",
    "\n",
    "$$ x_{i} = \\frac{b_{i}-\\sum\\limits_{j=1}^{i-1}{a_{ij}x_{j}}}{a_{ii}} $$\n",
    "\n",
    "e\n",
    "\n",
    "$$ x_{i} = \\frac{b_{i}-\\sum\\limits_{j=i+1}^{n}{a_{ij}x_{j}}}{a_{ii}} $$\n",
    "\n",
    "Faça duas funções, que recebendo como parâmetro uma matriz $A$ triangular (superior ou inferior) e um vetor $b$, retorne o vetor solução $X$:"
   ]
  },
  {
   "cell_type": "code",
   "execution_count": 1,
   "metadata": {
    "colab": {},
    "colab_type": "code",
    "id": "twvQ9kuLKm3A"
   },
   "outputs": [],
   "source": [
    "import numpy as np"
   ]
  },
  {
   "cell_type": "code",
   "execution_count": 2,
   "metadata": {
    "colab": {},
    "colab_type": "code",
    "id": "Nxa8vXSVKm3D"
   },
   "outputs": [],
   "source": [
    "def resolveTS(A,b): #A Triangular Superior\n",
    "    x= np.zeros(len(A))\n",
    "    for i in range(len(A)-1, -1,-1):\n",
    "        x[i]=(b[i]-(A[i,i+1:]*x[i+1:]).sum())/A[i,i]\n",
    "    return x\n",
    "\n",
    "def resolveTI(A,b): #A Triangular Inferior\n",
    "    m = len(A)\n",
    "    n = len(A[0])\n",
    "    k=0\n",
    "    x = np.zeros(n)\n",
    "    for i in range(0,m):\n",
    "        k=0\n",
    "        for j in range(0,n-1):\n",
    "            k = A[i][j] * x[j]\n",
    "        x[i] = (b[i]-k)/A[i][i]\n",
    "        \n",
    "    return x\n"
   ]
  },
  {
   "cell_type": "code",
   "execution_count": 3,
   "metadata": {
    "colab": {
     "base_uri": "https://localhost:8080/",
     "height": 34
    },
    "colab_type": "code",
    "executionInfo": {
     "elapsed": 722,
     "status": "ok",
     "timestamp": 1558355387738,
     "user": {
      "displayName": "BRENDA AGUIAR OLIVEIRA",
      "photoUrl": "",
      "userId": "00452942362272340037"
     },
     "user_tz": 240
    },
    "id": "zEGc86hTKm3F",
    "outputId": "6eb7c424-b4f4-4f96-fab5-ac633d473efe"
   },
   "outputs": [
    {
     "data": {
      "text/plain": [
       "array([ 1.,  2., -1.,  3.])"
      ]
     },
     "execution_count": 3,
     "metadata": {},
     "output_type": "execute_result"
    }
   ],
   "source": [
    "Mt = np.array([[1,1,-2,0],\n",
    "               [0,4,0,1],\n",
    "               [0,0,3,7/4],\n",
    "               [0,0,0,-5/3]])\n",
    "Bt = np.array([5,11,9/4, -5])\n",
    "resolveTS(Mt, Bt)"
   ]
  },
  {
   "cell_type": "code",
   "execution_count": 4,
   "metadata": {
    "colab": {
     "base_uri": "https://localhost:8080/",
     "height": 102
    },
    "colab_type": "code",
    "executionInfo": {
     "elapsed": 899,
     "status": "ok",
     "timestamp": 1558355394427,
     "user": {
      "displayName": "BRENDA AGUIAR OLIVEIRA",
      "photoUrl": "",
      "userId": "00452942362272340037"
     },
     "user_tz": 240
    },
    "id": "cZMMDZnAKm3K",
    "outputId": "462c2e73-a52e-461e-a8f0-8dafe578734e"
   },
   "outputs": [
    {
     "name": "stdout",
     "output_type": "stream",
     "text": [
      "[[-1.66666667  0.          0.          0.        ]\n",
      " [ 1.75        3.          0.          0.        ]\n",
      " [ 1.          0.          4.          0.        ]\n",
      " [ 0.         -2.          1.          1.        ]]\n",
      "[-5.    2.25 11.    5.  ]\n"
     ]
    }
   ],
   "source": [
    "Mti = np.flip(Mt)\n",
    "Bti = np.flip(Bt)\n",
    "\n",
    "print(Mti)\n",
    "print(Bti)"
   ]
  },
  {
   "cell_type": "code",
   "execution_count": 5,
   "metadata": {
    "colab": {
     "base_uri": "https://localhost:8080/",
     "height": 34
    },
    "colab_type": "code",
    "executionInfo": {
     "elapsed": 539,
     "status": "ok",
     "timestamp": 1558355394828,
     "user": {
      "displayName": "BRENDA AGUIAR OLIVEIRA",
      "photoUrl": "",
      "userId": "00452942362272340037"
     },
     "user_tz": 240
    },
    "id": "147aoNMIKm3P",
    "outputId": "2f72a332-66ee-4066-d84b-4b91145eb6a4"
   },
   "outputs": [
    {
     "data": {
      "text/plain": [
       "array([3.  , 0.75, 2.75, 2.25])"
      ]
     },
     "execution_count": 5,
     "metadata": {},
     "output_type": "execute_result"
    }
   ],
   "source": [
    "resolveTI(Mti,Bti)"
   ]
  },
  {
   "cell_type": "markdown",
   "metadata": {
    "colab_type": "text",
    "id": "jbbMbm4PKm3S"
   },
   "source": [
    "### Operações $l$-elementares ###\n",
    "\n",
    "Fazer operações $l$-elementares com matrizes numpy é bem simples: com `M[i:]` você acessa a i-ésima linha:"
   ]
  },
  {
   "cell_type": "code",
   "execution_count": 6,
   "metadata": {
    "colab": {
     "base_uri": "https://localhost:8080/",
     "height": 255
    },
    "colab_type": "code",
    "executionInfo": {
     "elapsed": 467,
     "status": "ok",
     "timestamp": 1558355396029,
     "user": {
      "displayName": "BRENDA AGUIAR OLIVEIRA",
      "photoUrl": "",
      "userId": "00452942362272340037"
     },
     "user_tz": 240
    },
    "id": "5wAtyJHkKm3S",
    "outputId": "c79334dc-4776-4776-e0ee-b9b056a5ba1c"
   },
   "outputs": [
    {
     "name": "stdout",
     "output_type": "stream",
     "text": [
      "[[ -6  -7  -1  -8]\n",
      " [  5  -2   1  -7]\n",
      " [ -5  -1  -7  -3]\n",
      " [ -8  -1 -10   5]]\n",
      "Subtraindo uma linha por outra multiplicada por uma constante:\n",
      "[[ -6  -7  -1  -8]\n",
      " [  5  -2   1  -7]\n",
      " [-15   3  -9  11]\n",
      " [ -8  -1 -10   5]]\n",
      "Trocar duas linhas:\n",
      "[[ -6  -7  -1  -8]\n",
      " [ -8  -1 -10   5]\n",
      " [-15   3  -9  11]\n",
      " [  5  -2   1  -7]]\n"
     ]
    }
   ],
   "source": [
    "M = np.random.randint(-10,10,(4,4))\n",
    "print(M)\n",
    "\n",
    "print(\"Subtraindo uma linha por outra multiplicada por uma constante:\")\n",
    "M[2] = M[2] - M[1]*2\n",
    "print(M)\n",
    "\n",
    "print(\"Trocar duas linhas:\")\n",
    "\n",
    "M[[1,3]] = M[[3,1]]\n",
    "print(M)"
   ]
  },
  {
   "cell_type": "markdown",
   "metadata": {
    "colab_type": "text",
    "id": "pEADsHPgKm3V"
   },
   "source": [
    "### Outras operações com Matrizes ###"
   ]
  },
  {
   "cell_type": "code",
   "execution_count": 7,
   "metadata": {
    "colab": {
     "base_uri": "https://localhost:8080/",
     "height": 289
    },
    "colab_type": "code",
    "executionInfo": {
     "elapsed": 495,
     "status": "ok",
     "timestamp": 1558355396461,
     "user": {
      "displayName": "BRENDA AGUIAR OLIVEIRA",
      "photoUrl": "",
      "userId": "00452942362272340037"
     },
     "user_tz": 240
    },
    "id": "R31vCR2RKm3W",
    "outputId": "00f8513b-b0f9-418c-f561-ae1965c3cf99"
   },
   "outputs": [
    {
     "name": "stdout",
     "output_type": "stream",
     "text": [
      "A matriz\n",
      "[[ -6  -7  -1  -8]\n",
      " [ -8  -1 -10   5]\n",
      " [-15   3  -9  11]\n",
      " [  5  -2   1  -7]]\n",
      "Achar o maior elemento da matriz:\n",
      "5\n",
      "Achar o maior elemento da matriz em módulo:\n",
      "15\n",
      "Para mostrar os elementos da 2 linha:\n",
      "tem essa maneira:\n",
      "[-15   3  -9  11]\n",
      "e tem dessa outra:\n",
      "[-15   3  -9  11]\n",
      "Para mostrar os elementos da 2 coluna:\n",
      "[-6 -7 -1 -8]\n"
     ]
    }
   ],
   "source": [
    "print(\"A matriz\")\n",
    "print(M)\n",
    "print(\"Achar o maior elemento da matriz:\")\n",
    "\n",
    "print(M[1].max())\n",
    "\n",
    "print(\"Achar o maior elemento da matriz em módulo:\")\n",
    "print(abs(M[:][2]).max()) # ABS e o valor absoluto, pegar o maior das linhas na 2 coluna mdsssss\n",
    "\n",
    "\n",
    "# E PARA ACHAR O MAIOR ELEMENTO DE UMA LINHA?\n",
    "#para pegar os elementos da coluna 2\n",
    "print(\"Para mostrar os elementos da 2 linha:\")\n",
    "print(\"tem essa maneira:\")\n",
    "print(M[2])\n",
    "print(\"e tem dessa outra:\")\n",
    "print(M[:][2])\n",
    "print(\"Para mostrar os elementos da 2 coluna:\")\n",
    "print(M[0])\n"
   ]
  },
  {
   "cell_type": "code",
   "execution_count": 8,
   "metadata": {
    "colab": {
     "base_uri": "https://localhost:8080/",
     "height": 255
    },
    "colab_type": "code",
    "executionInfo": {
     "elapsed": 609,
     "status": "ok",
     "timestamp": 1558355396815,
     "user": {
      "displayName": "BRENDA AGUIAR OLIVEIRA",
      "photoUrl": "",
      "userId": "00452942362272340037"
     },
     "user_tz": 240
    },
    "id": "p2L76edUKm3Z",
    "outputId": "436c1b7c-5ca2-4735-96ce-4aef3ab730df"
   },
   "outputs": [
    {
     "name": "stdout",
     "output_type": "stream",
     "text": [
      "A matriz:\n",
      " [[ -6  -7  -1  -8]\n",
      " [ -8  -1 -10   5]\n",
      " [-15   3  -9  11]\n",
      " [  5  -2   1  -7]]\n",
      "Matriz transposta de M:\n",
      " [[ -6  -8 -15   5]\n",
      " [ -7  -1   3  -2]\n",
      " [ -1 -10  -9   1]\n",
      " [ -8   5  11  -7]]\n",
      "Determinante de M:  2223.000000000002\n",
      "Autovalores de uma matriz:\n",
      "[-16.89434118+0.j          -2.08193503+7.96423928j\n",
      "  -2.08193503-7.96423928j  -1.94178876+0.j        ]\n"
     ]
    }
   ],
   "source": [
    "print(\"A matriz:\\n\", M)\n",
    "print(\"Matriz transposta de M:\\n\",M[:,:].T)\n",
    "\n",
    "print(\"Determinante de M: \",np.linalg.det(M))\n",
    "\n",
    "print(\"Autovalores de uma matriz:\")\n",
    "\n",
    "(a,_) = np.linalg.eig(M) \n",
    "print(a)"
   ]
  },
  {
   "cell_type": "markdown",
   "metadata": {
    "colab_type": "text",
    "id": "bcmo6P5kKm3d"
   },
   "source": [
    "# Métodos Exatos #\n",
    "\n",
    "## Eliminação gaussiana ##\n",
    "\n",
    "Para fazer a eliminação gaussiana deve-se usar os elementos da diagonal principal de A como pivos para zerar os elementos da mesma coluna.\n",
    "\n",
    "Implemente a eliminação gaussiana simples (sem pivotação parcial):"
   ]
  },
  {
   "cell_type": "code",
   "execution_count": 9,
   "metadata": {
    "colab": {
     "base_uri": "https://localhost:8080/",
     "height": 119
    },
    "colab_type": "code",
    "executionInfo": {
     "elapsed": 696,
     "status": "ok",
     "timestamp": 1558355397418,
     "user": {
      "displayName": "BRENDA AGUIAR OLIVEIRA",
      "photoUrl": "",
      "userId": "00452942362272340037"
     },
     "user_tz": 240
    },
    "id": "WxsrNm-BKm3e",
    "outputId": "48c47c33-8e2e-4289-8fa8-ac56f4415cb3"
   },
   "outputs": [
    {
     "name": "stdout",
     "output_type": "stream",
     "text": [
      "[[2 1]\n",
      " [1 3]]\n",
      "[[2 1]\n",
      " [1 3]]\n",
      "achar a diagonal principal:\n",
      "[2 3]\n"
     ]
    }
   ],
   "source": [
    "Mzao = np.array([[2,1],\n",
    "               [1,3]])\n",
    "bzao = np.array([[5],[6]])\n",
    "\n",
    "belowD = np.triu(Mzao, -1)\n",
    "aboveD = np.tril(Mzao, 1)\n",
    "print(belowD)\n",
    "print(aboveD)\n",
    "print(\"achar a diagonal principal:\") \n",
    "print(Mzao.diagonal())"
   ]
  },
  {
   "cell_type": "code",
   "execution_count": 10,
   "metadata": {
    "colab": {},
    "colab_type": "code",
    "id": "YneVRDduKm3h"
   },
   "outputs": [],
   "source": [
    "def eliminacaoGaussianaSimples(A,b):\n",
    "    pivot = 0\n",
    "    m = 0.0\n",
    "    x = np.zeros(len(A))\n",
    "    for i in range(0,len(A)-1):\n",
    "        pivot = A[i,i]\n",
    "        for j in range(i+1,len(A)):\n",
    "            if (pivot == 0):\n",
    "                m = 0\n",
    "            else:\n",
    "                m = A[j,i]/pivot\n",
    "            A[j] =  A[j] - (m*A[i])\n",
    "            b[j] = b[j] - (m*b[i])       \n",
    "    x = resolveTS(A,b)\n",
    "    return x"
   ]
  },
  {
   "cell_type": "code",
   "execution_count": 11,
   "metadata": {
    "colab": {
     "base_uri": "https://localhost:8080/",
     "height": 85
    },
    "colab_type": "code",
    "executionInfo": {
     "elapsed": 892,
     "status": "ok",
     "timestamp": 1558376829439,
     "user": {
      "displayName": "BRENDA AGUIAR OLIVEIRA",
      "photoUrl": "",
      "userId": "00452942362272340037"
     },
     "user_tz": 240
    },
    "id": "r1eL2xm3Km3j",
    "outputId": "30ec34ec-8bd5-4199-8d22-bb8f77f323c0"
   },
   "outputs": [
    {
     "name": "stdout",
     "output_type": "stream",
     "text": [
      "[[ 1  1 -2  1]\n",
      " [-1  3  2  1]\n",
      " [ 1  2  1  2]\n",
      " [ 2  0 -2 -1]]\n"
     ]
    }
   ],
   "source": [
    " \n",
    "OtaM = np.array([[1,1,-2,1],\n",
    "                 [-1,3,2,1],\n",
    "                 [1,2,1,2],\n",
    "                 [2,0,-2,-1]])\n",
    "OtaB = np.array([5,6,10,1])\n",
    "print(OtaM)"
   ]
  },
  {
   "cell_type": "code",
   "execution_count": 12,
   "metadata": {
    "colab": {
     "base_uri": "https://localhost:8080/",
     "height": 102
    },
    "colab_type": "code",
    "executionInfo": {
     "elapsed": 1020,
     "status": "ok",
     "timestamp": 1558376070819,
     "user": {
      "displayName": "BRENDA AGUIAR OLIVEIRA",
      "photoUrl": "",
      "userId": "00452942362272340037"
     },
     "user_tz": 240
    },
    "id": "7WVuDJ7gKm3m",
    "outputId": "95b29639-4eef-49c8-b88d-01e104d0e807"
   },
   "outputs": [
    {
     "data": {
      "text/plain": [
       "array([2.58333333, 1.75      , 0.66666667, 2.        ])"
      ]
     },
     "execution_count": 12,
     "metadata": {},
     "output_type": "execute_result"
    }
   ],
   "source": [
    "eliminacaoGaussianaSimples(OtaM,OtaB)\n",
    "#substitui(OtaM)"
   ]
  },
  {
   "cell_type": "code",
   "execution_count": null,
   "metadata": {
    "colab": {},
    "colab_type": "code",
    "id": "67xxNYcjKm3p"
   },
   "outputs": [],
   "source": []
  },
  {
   "cell_type": "code",
   "execution_count": 13,
   "metadata": {
    "colab": {
     "base_uri": "https://localhost:8080/",
     "height": 187
    },
    "colab_type": "code",
    "executionInfo": {
     "elapsed": 716,
     "status": "ok",
     "timestamp": 1558375200706,
     "user": {
      "displayName": "BRENDA AGUIAR OLIVEIRA",
      "photoUrl": "",
      "userId": "00452942362272340037"
     },
     "user_tz": 240
    },
    "id": "LaSWUFcrKm3s",
    "outputId": "83d9f14d-46f2-4ffc-a8fa-393836aaf9bc"
   },
   "outputs": [
    {
     "name": "stdout",
     "output_type": "stream",
     "text": [
      "[[ 1 -1 -2]\n",
      " [-1  3 -2]\n",
      " [-1 -2  1]]\n"
     ]
    },
    {
     "data": {
      "text/plain": [
       "array([-2.92857143, -1.21428571, -1.85714286])"
      ]
     },
     "execution_count": 13,
     "metadata": {},
     "output_type": "execute_result"
    }
   ],
   "source": [
    "\n",
    "M = np.array([[1,-1,-2],\n",
    "              [-1,3,-2],\n",
    "              [-1,-2,1]])\n",
    "bt = np.array([2,3,4])\n",
    "print(M)\n",
    "\n",
    "eliminacaoGaussianaSimples(M,bt)"
   ]
  },
  {
   "cell_type": "markdown",
   "metadata": {
    "colab_type": "text",
    "id": "HCR0RfAMKm3y"
   },
   "source": [
    "## Decomposição LU ##\n",
    "\n",
    "A decomposição LU é mais utilizada quando a mesma matriz de coeficientes $A$ é usada para várias soluções diferentes. Por isto, ela pode ser dividida em dois passos:\n",
    "\n",
    "- Decompor $A$ em $L$ e $U$ \n",
    "- Dados $L$, $U$ e $b$, achar a solução X\n",
    "\n",
    "Faça as duas funções, com a decomposição ainda sem pivotação parcial:"
   ]
  },
  {
   "cell_type": "code",
   "execution_count": 14,
   "metadata": {
    "colab": {
     "base_uri": "https://localhost:8080/",
     "height": 102
    },
    "colab_type": "code",
    "executionInfo": {
     "elapsed": 1097,
     "status": "ok",
     "timestamp": 1558376079841,
     "user": {
      "displayName": "BRENDA AGUIAR OLIVEIRA",
      "photoUrl": "",
      "userId": "00452942362272340037"
     },
     "user_tz": 240
    },
    "id": "y_QDa9D0Km3z",
    "outputId": "06f52da4-eb80-4209-b33e-a845b6fb5340"
   },
   "outputs": [
    {
     "name": "stdout",
     "output_type": "stream",
     "text": [
      "[[2 1]\n",
      " [3 5]]\n",
      "2\n",
      "[[1. 0.]\n",
      " [0. 1.]]\n"
     ]
    }
   ],
   "source": [
    "Matriz = np.array([[2,1],\n",
    "                  [3,5]])\n",
    "x = np.copy(Matriz) #copia a matriz para uma outra matriz\n",
    "t = np.shape(x)[0]#tamanho de uma matriz\n",
    "k = np.eye(t) # matriz identidade\n",
    "print(x)\n",
    "print(t)\n",
    "print(k)"
   ]
  },
  {
   "cell_type": "code",
   "execution_count": 15,
   "metadata": {
    "colab": {},
    "colab_type": "code",
    "id": "xhosuNXlKm32"
   },
   "outputs": [],
   "source": [
    "\n",
    "Mtz = np.array([[1,6,2,4],\n",
    "               [3,19,4,15],\n",
    "               [1,4,8,-12],\n",
    "               [5,33,9,3]])\n",
    "bt = np.array([8,25,18,72])\n"
   ]
  },
  {
   "cell_type": "code",
   "execution_count": 16,
   "metadata": {
    "colab": {},
    "colab_type": "code",
    "id": "w7voiiBAKm34"
   },
   "outputs": [],
   "source": [
    "# decompor A para:\n",
    "#deixar o triangulo inferior nulo para isso usar a funcao \n",
    "\n",
    "def decompoeLU(A):  \n",
    "    U = np.copy(A)  \n",
    "    n = np.shape(U)[0]  \n",
    "    L = np.eye(n)  \n",
    "    for j in np.arange(n-1):  \n",
    "        for i in np.arange(j+1,n):  \n",
    "            L[i,j] = U[i,j]/U[j,j]  \n",
    "            for k in np.arange(j+1,n):  \n",
    "                U[i,k] = U[i,k] - L[i,j]*U[j,k]  \n",
    "            U[i,j] = 0  \n",
    "    return (L, U)\n",
    "\n",
    "l, u = decompoeLU(Mtz)\n",
    "#funciona\n",
    "def resolveLU(L,U,b):\n",
    "    t = resolveTI(L,b)\n",
    "    x = resolveTS(U,t)\n",
    "    return x"
   ]
  },
  {
   "cell_type": "code",
   "execution_count": 17,
   "metadata": {
    "colab": {
     "base_uri": "https://localhost:8080/",
     "height": 34
    },
    "colab_type": "code",
    "executionInfo": {
     "elapsed": 445,
     "status": "ok",
     "timestamp": 1558378316181,
     "user": {
      "displayName": "BRENDA AGUIAR OLIVEIRA",
      "photoUrl": "",
      "userId": "00452942362272340037"
     },
     "user_tz": 240
    },
    "id": "7zKORJpmKm37",
    "outputId": "e52022e1-4cc5-4bbc-e94d-798f983bd995"
   },
   "outputs": [
    {
     "data": {
      "text/plain": [
       "array([1244., -146., -126.,  -27.])"
      ]
     },
     "execution_count": 17,
     "metadata": {},
     "output_type": "execute_result"
    }
   ],
   "source": [
    "L, U = decompoeLU(Mtz)\n",
    "resolveLU(L, U, bt)"
   ]
  },
  {
   "cell_type": "markdown",
   "metadata": {
    "colab_type": "text",
    "id": "fXKpIMLOKm4A"
   },
   "source": [
    "### Pivotação Parcial ###\n",
    "\n",
    "Sistemas onde o determinante de uma das submatrizes principais ($A_{1x1},A_{2x2},A_{3x3}...$) é igual a $0$ não podem ser resolvidos com a decomposição LU simples. Nestes casos, deve-se utilizar a pivotação parcial, onde o pivô é escolhido da linha com o maior elemento em módulo.\n",
    "\n",
    "Contudo, é importante guardar as trocas de linha que foram efetuadas na matriz de permutações $P$. Esta matriz é uma matriz identidade com as linhas trocadas junto com a pivotação. Por exemplo, se na primeira coluna o maior elemento está na linha três, este será o primeiro pivô (a linha 1 será trocada com a 3). Neste caso, na matriz $P$ também se troca estas linhas. No fim do processo:\n",
    "\n",
    "$PAx = Pb$\n",
    "\n",
    "$LUx=Pb$\n",
    "\n",
    "Então basta resolver trocando as linhas de b de através da multiplicação por P. Lembrem que multiplicar matrizes em numpy é:\n",
    "\n",
    "`p.dot(a)` ou `dot(p,a)`\n",
    "\n",
    "Implemente uma função que checa se a pivotação parcial é necessária e a decomposição LU com pivotação parcial:"
   ]
  },
  {
   "cell_type": "code",
   "execution_count": 52,
   "metadata": {
    "colab": {},
    "colab_type": "code",
    "id": "0TaOUJ7sKm4B"
   },
   "outputs": [],
   "source": [
    "def verificaPivot(A):# escolher a maior linha em modulo\n",
    "    for i in range(0,len(A)):\n",
    "        if np.linalg.det(A[:i+1,:i+1]) != 0:\n",
    "            return 0\n",
    "    return 1\n",
    "\n",
    "def LUparcial(A):\n",
    "    P = np.eye(len(A))\n",
    "    L = np.eye(len(A))\n",
    "    i = 0\n",
    "    for i in range(0,len(A)-1):\n",
    "        im = np.argmax(abs(A[i:,i])) + i\n",
    "        pivo = A[im][i]\n",
    "        for j in range(i,len(A)):        \n",
    "            m = A[j][i] / pivo\n",
    "            if j != im: \n",
    "                A[j] = A[j] - A[im] * m\n",
    "                if j < im: \n",
    "                    L[j+1][i] = m\n",
    "                else: \n",
    "                    L[j][i] = m\n",
    "    \n",
    "        A[[i,im]]=A[[im,i]]\n",
    "        P[[i,im]]=P[[im,i]]\n",
    "    U = A\n",
    "    return L,U,P\n",
    "\n",
    "def resolveLUpar(L,U,P,b):\n",
    "    y = resolveTI(L,np.dot(P,b))\n",
    "    x = resolveTS(U, y)\n",
    "    return x\n"
   ]
  },
  {
   "cell_type": "code",
   "execution_count": 53,
   "metadata": {
    "colab": {
     "base_uri": "https://localhost:8080/",
     "height": 102
    },
    "colab_type": "code",
    "executionInfo": {
     "elapsed": 466,
     "status": "ok",
     "timestamp": 1558378318989,
     "user": {
      "displayName": "BRENDA AGUIAR OLIVEIRA",
      "photoUrl": "",
      "userId": "00452942362272340037"
     },
     "user_tz": 240
    },
    "id": "pKCVGcTxe6V3",
    "outputId": "f2951a8e-77f8-4934-9d73-18271f033723"
   },
   "outputs": [
    {
     "data": {
      "text/plain": [
       "array([-5330.3,   725.5,   294. ,    24. ])"
      ]
     },
     "execution_count": 53,
     "metadata": {},
     "output_type": "execute_result"
    }
   ],
   "source": [
    "L, U, P = LUparcial(Mtz)\n",
    "resolveLUpar(L,U,P,bt)"
   ]
  },
  {
   "cell_type": "markdown",
   "metadata": {
    "colab_type": "text",
    "id": "rB1LgrwrKm4E"
   },
   "source": [
    "#### Exercício ####\n",
    "\n",
    "Rode e verifique o tempo com `%timeit` da eliminação gaussiana, decomposição LU e LU com pivotação para o sistema abaixo. No caso da LU, calcule o tempo da decomposição e da solução dos sistemas:"
   ]
  },
  {
   "cell_type": "code",
   "execution_count": 43,
   "metadata": {
    "colab": {
     "base_uri": "https://localhost:8080/",
     "height": 357
    },
    "colab_type": "code",
    "executionInfo": {
     "elapsed": 688,
     "status": "ok",
     "timestamp": 1558378322474,
     "user": {
      "displayName": "BRENDA AGUIAR OLIVEIRA",
      "photoUrl": "",
      "userId": "00452942362272340037"
     },
     "user_tz": 240
    },
    "id": "1ZbQOrgZKm4F",
    "outputId": "82017f93-5f31-4efc-a849-406dcbdf06b3"
   },
   "outputs": [
    {
     "name": "stdout",
     "output_type": "stream",
     "text": [
      "Eliminação gaussiana: [-3.8516129   0.32903226  3.12903226  1.03225806]\n",
      "426 µs ± 27 µs per loop (mean ± std. dev. of 7 runs, 100 loops each)\n",
      "\n",
      "\n",
      "Decomposição LU:\n",
      "Função de decomposição:\n",
      "421 µs ± 5.71 µs per loop (mean ± std. dev. of 7 runs, 100 loops each)\n",
      "Função Resolve: [-3.8516129   0.32903226  3.12903226  1.03225806]\n",
      "211 µs ± 16.9 µs per loop (mean ± std. dev. of 7 runs, 100 loops each)\n",
      "\n",
      "\n",
      "LU com pivotação parcial:\n",
      "444 µs ± 30 µs per loop (mean ± std. dev. of 7 runs, 100 loops each)\n",
      "Resolve LU parcial: [-3.8516129   0.32903226  3.12903226  1.03225806]\n",
      "163 µs ± 16.4 µs per loop (mean ± std. dev. of 7 runs, 100 loops each)\n"
     ]
    }
   ],
   "source": [
    "#Sistema 1:\n",
    "\n",
    "M1 = np.array([[1,-3,5,6], [-8,4,-1,0],[3,2,-2,7],[1,2,5,-4]])\n",
    "b1 = np.array([17,29,-11,7])\n",
    "\n",
    "print(\"Eliminação gaussiana:\", eliminacaoGaussianaSimples(M1,b1))\n",
    "%timeit -n100 eliminacaoGaussianaSimples(M1,b1)\n",
    "\n",
    "print(\"\\n\")\n",
    "\n",
    "print(\"Decomposição LU:\")\n",
    "print(\"Função de decomposição:\")\n",
    "%timeit -n100 decompoeLU(M1)\n",
    "L, U = decompoeLU(M1)\n",
    "print(\"Função Resolve:\", resolveLU(L,U,b1))\n",
    "%timeit -n100 resolveLU(L,U,b1)\n",
    "\n",
    "\n",
    "print(\"\\n\")\n",
    "print(\"LU com pivotação parcial:\")\n",
    "%timeit -n100 LUparcial(M1)\n",
    "L, U, P = LUparcial(M1)\n",
    "print(\"Resolve LU parcial:\", resolveLUpar(L,U,P,b1))\n",
    "%timeit -n100 resolveLUpar(L,U,P,b1)\n",
    "\n",
    "\n"
   ]
  },
  {
   "cell_type": "code",
   "execution_count": 44,
   "metadata": {
    "colab": {
     "base_uri": "https://localhost:8080/",
     "height": 357
    },
    "colab_type": "code",
    "executionInfo": {
     "elapsed": 703,
     "status": "ok",
     "timestamp": 1558378325030,
     "user": {
      "displayName": "BRENDA AGUIAR OLIVEIRA",
      "photoUrl": "",
      "userId": "00452942362272340037"
     },
     "user_tz": 240
    },
    "id": "BHa8rPWLaU8X",
    "outputId": "cb1532e6-dec6-4a8b-c52a-2b914a844494"
   },
   "outputs": [
    {
     "name": "stdout",
     "output_type": "stream",
     "text": [
      "Eliminação gaussiana: [ 0.43125 -0.6125   1.7      0.6    ]\n",
      "446 µs ± 39.7 µs per loop (mean ± std. dev. of 7 runs, 100 loops each)\n",
      "\n",
      "\n",
      "Decomposição LU:\n",
      "Função de decomposição:\n",
      "429 µs ± 14.6 µs per loop (mean ± std. dev. of 7 runs, 100 loops each)\n",
      "Função Resolve: [ 0.43125 -0.6125   1.7      0.6    ]\n",
      "247 µs ± 29.5 µs per loop (mean ± std. dev. of 7 runs, 100 loops each)\n",
      "\n",
      "\n",
      "LU com pivotação parcial:\n",
      "578 µs ± 178 µs per loop (mean ± std. dev. of 7 runs, 100 loops each)\n",
      "Resolve LU parcial: [ 0.43125 -0.6125   1.7      0.6    ]\n",
      "276 µs ± 101 µs per loop (mean ± std. dev. of 7 runs, 100 loops each)\n"
     ]
    }
   ],
   "source": [
    "\n",
    "#Sistema 2:\n",
    "\n",
    "M2 = np.array([[-2,3,1,5],\n",
    "               [5,1,-1,0],\n",
    "               [1,6,3,-1],\n",
    "               [4,5,2,8]])\n",
    "b2 = np.array([2,-1,0,6])\n",
    "print(\"Eliminação gaussiana:\", eliminacaoGaussianaSimples(M2,b2))\n",
    "%timeit -n100 eliminacaoGaussianaSimples(M2,b2)\n",
    "\n",
    "print(\"\\n\")\n",
    "\n",
    "print(\"Decomposição LU:\")\n",
    "print(\"Função de decomposição:\")\n",
    "%timeit -n100 decompoeLU(M2)\n",
    "L, U = decompoeLU(M2)\n",
    "print(\"Função Resolve:\", resolveLU(L,U,b2))\n",
    "%timeit -n100 resolveLU(L,U,b2)\n",
    "\n",
    "\n",
    "print(\"\\n\")\n",
    "print(\"LU com pivotação parcial:\")\n",
    "%timeit -n100 LUparcial(M2)\n",
    "L, U, P = LUparcial(M2)\n",
    "print(\"Resolve LU parcial:\", resolveLUpar(L,U,P,b2))\n",
    "%timeit -n100 resolveLUpar(L,U,P,b2)\n"
   ]
  },
  {
   "cell_type": "markdown",
   "metadata": {
    "colab_type": "text",
    "id": "qIwJxVAXKm4H"
   },
   "source": [
    "## Cholesky ##\n",
    "\n",
    "O método de Cholesky só pode ser utilizado quando a matriz for:\n",
    "\n",
    "- Simétrica (igual a sua transposta)\n",
    "- Definida positiva: \n",
    "    - Todos os elementos da diagonal principal são positivos\n",
    "    - Todos os autovalores de $A$ são positivos\n",
    "    - Todas as submatrizes superiores possuem determinante __positivo__.\n",
    "\n",
    "Se for possível, o método de Cholesky é uma decomposição LU onde $U=L^{T}$, ou seja $LL^{T}x=b$.\n",
    "\n",
    "Lembrando que na decomposição de Cholesky os elementos da diagonal principal de L são:\n",
    "\n",
    "$$l_{jj} = \\sqrt{a_{jj}-\\sum\\limits_{k=1}^{j-1}{l_{jk}^2}, j = 1,2,...,n}$$\n",
    "\n",
    "E os fora da diagonal principal são:\n",
    "\n",
    "$$ l_{ij} = \\frac{a_{ij}-\\sum\\limits_{k=1}^{j-1}{l_{ik}l_{jk}}}{l_{jj}} $$\n",
    "\n",
    "Desta forma, faça uma função para determinar se uma matriz pode ser resolvida via Cholesky e uma para encontrar L (para resolver pode-se usar `resolveLU(L,L.T,b)`):"
   ]
  },
  {
   "cell_type": "code",
   "execution_count": 45,
   "metadata": {
    "colab": {
     "base_uri": "https://localhost:8080/",
     "height": 85
    },
    "colab_type": "code",
    "executionInfo": {
     "elapsed": 713,
     "status": "ok",
     "timestamp": 1558378327430,
     "user": {
      "displayName": "BRENDA AGUIAR OLIVEIRA",
      "photoUrl": "",
      "userId": "00452942362272340037"
     },
     "user_tz": 240
    },
    "id": "it1qMrqJKm4H",
    "outputId": "823210e8-fa0d-4fab-9742-25b123f24b56"
   },
   "outputs": [],
   "source": [
    "\n",
    "\n",
    "#sim, funciona\n",
    "def simetrica(A):\n",
    "    At = A[:,:].T\n",
    "    x = np.equal(A, At)\n",
    "    if(np.all(x == True)): #verificar se a A e igual a transposta de A (Simetria)\n",
    "        return True\n",
    "\n",
    "def diagonalPositiva(A):\n",
    "    if(np.all(A.diagonal() > 0)): #verificar se a diagonal principal e positiva\n",
    "        return True\n",
    "\n",
    "def autoValPos(A):\n",
    "    (a,_) = np.linalg.eig(A)\n",
    "    for i in range(len(A)): # autovalores positivos\n",
    "        if(a[i] < 0):\n",
    "            return False\n",
    "        else:\n",
    "            return True\n",
    "def subMatDetPos(A):\n",
    "     for j in range(len(A)):\n",
    "        t = np.linalg.det(A[0:j,0:j]) # determinantes das submatrizes positivas\n",
    "        if(t < 0):\n",
    "            return False\n",
    "        else:\n",
    "            return True      \n",
    "def verificaCholesky(A):\n",
    "    x = simetrica(A)\n",
    "    y = diagonalPositiva(A)\n",
    "    t = autoValPos(A)\n",
    "    h = subMatDetPos(A)\n",
    "    if ((x == True) and (y==True) and (t==True) and (h==True)):\n",
    "        return True\n",
    "    else:\n",
    "        return False\n",
    "      \n",
    "\n",
    "def geraCholesky(A):\n",
    "    L = [[0.0] * len(A) for _ in range(len(A))]\n",
    "    for i, (Ai, Li) in enumerate(zip(A, L)):\n",
    "        for j, Lj in enumerate(L[:i+1]):\n",
    "            s = sum(Li[k] * Lj[k] for k in range(j))\n",
    "            Li[j] = np.sqrt(Ai[i] - s) if (i == j) else \\\n",
    "                      (1.0 / Lj[j] * (Ai[j] - s))\n",
    "    L = np.array(L)\n",
    "    return L\n",
    "\n",
    "def resolveCholesky(A,b):\n",
    "    a = verificaCholesky(A)\n",
    "    if(a == True):\n",
    "        L = geraCholesky(A) #gera L\n",
    "        x = resolveLU(L,L.T,b) # resolve L e a transposta de L\n",
    "        return x\n",
    "    else:\n",
    "        return -1\n",
    "        "
   ]
  },
  {
   "cell_type": "code",
   "execution_count": 46,
   "metadata": {
    "colab": {
     "base_uri": "https://localhost:8080/",
     "height": 323
    },
    "colab_type": "code",
    "executionInfo": {
     "elapsed": 697,
     "status": "error",
     "timestamp": 1558378329119,
     "user": {
      "displayName": "BRENDA AGUIAR OLIVEIRA",
      "photoUrl": "",
      "userId": "00452942362272340037"
     },
     "user_tz": 240
    },
    "id": "BKkUlBlKKm4K",
    "outputId": "580cb0c2-cd68-4bcf-8f9a-56d2619cb65d"
   },
   "outputs": [
    {
     "data": {
      "text/plain": [
       "array([-0.93916667,  0.0725    ,  1.9625    ])"
      ]
     },
     "execution_count": 46,
     "metadata": {},
     "output_type": "execute_result"
    }
   ],
   "source": [
    "M3 = np.array([[9,-6,3],\n",
    "               [-6,29,-7],\n",
    "               [3,-7,18]])\n",
    "b3 = np.array([-3,-8,33])\n",
    "\n",
    "verificaCholesky(M3)\n",
    "resolveCholesky(M3,b3)\n"
   ]
  },
  {
   "cell_type": "code",
   "execution_count": null,
   "metadata": {
    "colab": {
     "base_uri": "https://localhost:8080/",
     "height": 68
    },
    "colab_type": "code",
    "executionInfo": {
     "elapsed": 692,
     "status": "ok",
     "timestamp": 1558357327098,
     "user": {
      "displayName": "BRENDA AGUIAR OLIVEIRA",
      "photoUrl": "",
      "userId": "00452942362272340037"
     },
     "user_tz": 240
    },
    "id": "W0AsGGXnKm4N",
    "outputId": "85456322-1689-4376-db4f-39e65bc8b479"
   },
   "outputs": [],
   "source": [
    "\n"
   ]
  },
  {
   "cell_type": "markdown",
   "metadata": {
    "colab_type": "text",
    "id": "v_n-9wGEKm4S"
   },
   "source": [
    "No método de Cholesky, por ser uma matriz simétrica, podemos, ao invés de calcular o determinante normalmente, usar a seguinte definição:\n",
    "\n",
    "$$ det(A) = det(L)det(L') $$\n",
    "\n",
    "$$ det(A) = \\bigg(\\prod_{i=1}^{n}{l_{ii}}\\bigg)^2 $$"
   ]
  },
  {
   "cell_type": "code",
   "execution_count": 48,
   "metadata": {
    "colab": {
     "base_uri": "https://localhost:8080/",
     "height": 34
    },
    "colab_type": "code",
    "executionInfo": {
     "elapsed": 689,
     "status": "ok",
     "timestamp": 1558357329609,
     "user": {
      "displayName": "BRENDA AGUIAR OLIVEIRA",
      "photoUrl": "",
      "userId": "00452942362272340037"
     },
     "user_tz": 240
    },
    "id": "iT0_sWrOKm4S",
    "outputId": "202257a2-2d30-42a6-b8ed-a6f34ba09c90"
   },
   "outputs": [],
   "source": [
    "def detCholesky(A):\n",
    "    L = geraCholesky(A)\n",
    "    detL = np.linalg.det(L)\n",
    "    detLT = np.linalg.det(L.T)\n",
    "    det = detL*detLT\n",
    "    return det"
   ]
  },
  {
   "cell_type": "markdown",
   "metadata": {
    "colab_type": "text",
    "id": "gD9hkY-QKm4V"
   },
   "source": [
    "#### Exercicios ####\n",
    "\n",
    "1 - Verifique se os seguintes sistemas podem ser resolvidas via Choleski\n",
    "\n",
    "2 - Compare o tempo para decomposição LU das que são possíveis com a de Choleski usando `%timeit`\n",
    "\n",
    "3 - Compare o tempo do calculo do determinante de numpy com o determinante específico para matrizes para choleski"
   ]
  },
  {
   "cell_type": "code",
   "execution_count": 49,
   "metadata": {
    "colab": {
     "base_uri": "https://localhost:8080/",
     "height": 442
    },
    "colab_type": "code",
    "executionInfo": {
     "elapsed": 865,
     "status": "error",
     "timestamp": 1558379076126,
     "user": {
      "displayName": "BRENDA AGUIAR OLIVEIRA",
      "photoUrl": "",
      "userId": "00452942362272340037"
     },
     "user_tz": 240
    },
    "id": "iyKoBCOcKm4V",
    "outputId": "2d0070b8-d5b7-4f1a-a087-e4e1e15b6038"
   },
   "outputs": [
    {
     "name": "stdout",
     "output_type": "stream",
     "text": [
      "Cholesky:\n",
      "Verifica se o sistema pode ser resolvido, senao for retorna -1: [-0.93916667  0.0725      1.9625    ]\n",
      "639 µs ± 70.9 µs per loop (mean ± std. dev. of 7 runs, 100 loops each)\n",
      "\n",
      "\n",
      "Tempo da decomposição LU:\n",
      "tempo da função de decomposição:\n",
      "202 µs ± 26.5 µs per loop (mean ± std. dev. of 7 runs, 100 loops each)\n",
      "tempo da função Resolve: [-0.93916667  0.0725      1.9625    ]\n",
      "166 µs ± 10.9 µs per loop (mean ± std. dev. of 7 runs, 100 loops each)\n",
      "\n",
      "\n",
      "Tempo do determinante numpy: 3599.999999999998\n",
      "37.4 µs ± 9.9 µs per loop (mean ± std. dev. of 7 runs, 100 loops each)\n",
      "Tempo do determinante Cholesky: 3599.999999999998\n",
      "213 µs ± 19.5 µs per loop (mean ± std. dev. of 7 runs, 100 loops each)\n"
     ]
    }
   ],
   "source": [
    "M3 = np.array([[9,-6,3],\n",
    "               [-6,29,-7],\n",
    "               [3,-7,18]])\n",
    "b3 = np.array([-3,-8,33])\n",
    "\n",
    "print(\"Cholesky:\")\n",
    "print(\"Verifica se o sistema pode ser resolvido, senao for retorna -1:\", resolveCholesky(M3,b3))\n",
    "%timeit -n100 resolveCholesky(M3,b3)\n",
    "\n",
    "\n",
    "print(\"\\n\")\n",
    "print(\"Tempo da decomposição LU:\")\n",
    "print(\"tempo da função de decomposição:\")\n",
    "L, U = decompoeLU(M3)\n",
    "%timeit -n100 decompoeLU(M3)\n",
    "\n",
    "print(\"tempo da função Resolve:\", resolveLU(L,U,b3))\n",
    "%timeit -n100 resolveLU(L,U,b3)\n",
    "\n",
    "\n",
    "print(\"\\n\")\n",
    "print(\"Tempo do determinante numpy:\", np.linalg.det(M3))\n",
    "%timeit -n100 np.linalg.det(M3)\n",
    "\n",
    "print(\"Tempo do determinante Cholesky:\", detCholesky(M3))\n",
    "%timeit -n100 detCholesky(M3)"
   ]
  },
  {
   "cell_type": "code",
   "execution_count": 50,
   "metadata": {
    "colab": {},
    "colab_type": "code",
    "id": "bzj_Udw7OFjY"
   },
   "outputs": [
    {
     "name": "stdout",
     "output_type": "stream",
     "text": [
      "Cholesky:\n",
      "Verifica se o sistema pode ser resolvido, senao for retorna -1: [ 3.33333333 -1.77777778  0.44444444 -1.66666667]\n",
      "781 µs ± 86.1 µs per loop (mean ± std. dev. of 7 runs, 100 loops each)\n",
      "\n",
      "\n",
      "Tempo da decomposição LU:\n",
      "tempo da função de decomposição:\n",
      "431 µs ± 58.2 µs per loop (mean ± std. dev. of 7 runs, 100 loops each)\n",
      "tempo da função Resolve: [ 3.33333333 -1.77777778  0.44444444 -1.66666667]\n",
      "221 µs ± 3.84 µs per loop (mean ± std. dev. of 7 runs, 100 loops each)\n",
      "\n",
      "\n",
      "Tempo do determinante numpy: 35.999999999999964\n",
      "36 µs ± 3.58 µs per loop (mean ± std. dev. of 7 runs, 100 loops each)\n",
      "Tempo do determinante Cholesky: 36.0\n",
      "304 µs ± 17.4 µs per loop (mean ± std. dev. of 7 runs, 100 loops each)\n"
     ]
    }
   ],
   "source": [
    "M4 = np.array([[4,-2,4,10],\n",
    "               [-2,2,-1,-7],\n",
    "               [4,-1,14,11],\n",
    "               [10,-7,11,31]])\n",
    "b4 = np.array([2,2,-1,-2])\n",
    "print(\"Cholesky:\")\n",
    "print(\"Verifica se o sistema pode ser resolvido, senao for retorna -1:\", resolveCholesky(M4,b4))\n",
    "%timeit -n100 resolveCholesky(M4,b4)\n",
    "\n",
    "\n",
    "print(\"\\n\")\n",
    "print(\"Tempo da decomposição LU:\")\n",
    "print(\"tempo da função de decomposição:\")\n",
    "L, U = decompoeLU(M4)\n",
    "%timeit -n100 decompoeLU(M4)\n",
    "\n",
    "print(\"tempo da função Resolve:\", resolveLU(L,U,b4))\n",
    "%timeit -n100 resolveLU(L,U,b4)\n",
    "\n",
    "\n",
    "print(\"\\n\")\n",
    "print(\"Tempo do determinante numpy:\", np.linalg.det(M4))\n",
    "%timeit -n100 np.linalg.det(M4)\n",
    "\n",
    "print(\"Tempo do determinante Cholesky:\", detCholesky(M4))\n",
    "%timeit -n100 detCholesky(M4)"
   ]
  },
  {
   "cell_type": "code",
   "execution_count": 51,
   "metadata": {
    "colab": {},
    "colab_type": "code",
    "id": "RZFIgp41Uaqf"
   },
   "outputs": [
    {
     "name": "stdout",
     "output_type": "stream",
     "text": [
      "Cholesky:\n",
      "Verifica se o sistema pode ser resolvido, senao for retorna -1: [nan nan nan nan]\n"
     ]
    },
    {
     "name": "stderr",
     "output_type": "stream",
     "text": [
      "C:\\ProgramData\\Anaconda3\\lib\\site-packages\\ipykernel_launcher.py:44: RuntimeWarning: invalid value encountered in sqrt\n"
     ]
    },
    {
     "name": "stdout",
     "output_type": "stream",
     "text": [
      "811 µs ± 64 µs per loop (mean ± std. dev. of 7 runs, 100 loops each)\n",
      "\n",
      "\n",
      "Tempo da decomposição LU:\n",
      "tempo da função de decomposição:\n",
      "424 µs ± 9.21 µs per loop (mean ± std. dev. of 7 runs, 100 loops each)\n",
      "tempo da função Resolve: [ 0.775  3.6   -0.2    0.4  ]\n",
      "219 µs ± 15.6 µs per loop (mean ± std. dev. of 7 runs, 100 loops each)\n",
      "\n",
      "\n",
      "Tempo do determinante numpy: -1599.9999999999984\n",
      "38.8 µs ± 5.21 µs per loop (mean ± std. dev. of 7 runs, 100 loops each)\n"
     ]
    },
    {
     "name": "stderr",
     "output_type": "stream",
     "text": [
      "C:\\ProgramData\\Anaconda3\\lib\\site-packages\\numpy\\linalg\\linalg.py:2022: RuntimeWarning: invalid value encountered in det\n",
      "  r = _umath_linalg.det(a, signature=signature)\n"
     ]
    },
    {
     "name": "stdout",
     "output_type": "stream",
     "text": [
      "Tempo do determinante Cholesky: nan\n",
      "348 µs ± 61.8 µs per loop (mean ± std. dev. of 7 runs, 100 loops each)\n"
     ]
    }
   ],
   "source": [
    "\n",
    "M5 = np.array([[16,-4,4,12],\n",
    "               [-4,2,-1,-7],\n",
    "               [4,-1,26,13],\n",
    "               [12,-7,13,25]])\n",
    "b5 = np.array([2,2,-1,-2])\n",
    "print(\"Cholesky:\")\n",
    "print(\"Verifica se o sistema pode ser resolvido, senao for retorna -1:\", resolveCholesky(M5,b5))\n",
    "%timeit -n100 resolveCholesky(M5,b5)\n",
    "\n",
    "\n",
    "print(\"\\n\")\n",
    "print(\"Tempo da decomposição LU:\")\n",
    "print(\"tempo da função de decomposição:\")\n",
    "L, U = decompoeLU(M5)\n",
    "%timeit -n100 decompoeLU(M5)\n",
    "\n",
    "print(\"tempo da função Resolve:\", resolveLU(L,U,b5))\n",
    "%timeit -n100 resolveLU(L,U,b5)\n",
    "\n",
    "\n",
    "print(\"\\n\")\n",
    "print(\"Tempo do determinante numpy:\", np.linalg.det(M5))\n",
    "%timeit -n100 np.linalg.det(M5)\n",
    "\n",
    "print(\"Tempo do determinante Cholesky:\", detCholesky(M5))\n",
    "%timeit -n100 detCholesky(M5)"
   ]
  },
  {
   "cell_type": "code",
   "execution_count": null,
   "metadata": {
    "colab": {},
    "colab_type": "code",
    "id": "K9tBUjX-UsyB"
   },
   "outputs": [],
   "source": []
  },
  {
   "cell_type": "code",
   "execution_count": null,
   "metadata": {},
   "outputs": [],
   "source": []
  }
 ],
 "metadata": {
  "colab": {
   "collapsed_sections": [],
   "name": "Aula 11 - Laboratório de Sistemas Lineares.ipynb",
   "provenance": [],
   "version": "0.3.2"
  },
  "kernelspec": {
   "display_name": "Python 3",
   "language": "python",
   "name": "python3"
  },
  "language_info": {
   "codemirror_mode": {
    "name": "ipython",
    "version": 3
   },
   "file_extension": ".py",
   "mimetype": "text/x-python",
   "name": "python",
   "nbconvert_exporter": "python",
   "pygments_lexer": "ipython3",
   "version": "3.7.1"
  }
 },
 "nbformat": 4,
 "nbformat_minor": 1
}
