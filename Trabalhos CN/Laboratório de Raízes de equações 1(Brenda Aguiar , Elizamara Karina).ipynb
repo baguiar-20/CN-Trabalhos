{
 "cells": [
  {
   "cell_type": "markdown",
   "metadata": {
    "colab_type": "text",
    "id": "lq26r9loFoia"
   },
   "source": [
    "# Laboratório de Raizes de Equações\n",
    "\n",
    "Nesta aula, iremos implementar métodos para encontrar raízes de equações, polinomiais ou não.\n",
    "\n",
    "Antes de mais nada, precisamos criar métodos para resolver um polinomio dado um valor de X. Um polinômio pode ser representado como um vetor de coeficientes. Por exemplo, um polinômio $3x^4-6x^3+4x^2-29$ poderia ser representado por:"
   ]
  },
  {
   "cell_type": "code",
   "execution_count": 10,
   "metadata": {
    "colab": {},
    "colab_type": "code",
    "id": "RWf4K_OxFoib"
   },
   "outputs": [],
   "source": [
    "import numpy as np\n",
    "pol = np.array([-29,0,4,-6,3])"
   ]
  },
  {
   "cell_type": "markdown",
   "metadata": {
    "colab_type": "text",
    "id": "C9HS4Hq0Foif"
   },
   "source": [
    "De posse de um polinômio, é importante ter uma função que calcule o valor do polinômio para um valor de X qualquer:"
   ]
  },
  {
   "cell_type": "code",
   "execution_count": 11,
   "metadata": {
    "colab": {
     "base_uri": "https://localhost:8080/",
     "height": 34
    },
    "colab_type": "code",
    "executionInfo": {
     "elapsed": 781,
     "status": "ok",
     "timestamp": 1556020149521,
     "user": {
      "displayName": "BRENDA AGUIAR OLIVEIRA",
      "photoUrl": "",
      "userId": "00452942362272340037"
     },
     "user_tz": 240
    },
    "id": "gZwhGkZqFoif",
    "outputId": "dce30d65-b3fa-4518-d9ae-af0572c6e4ec"
   },
   "outputs": [
    {
     "data": {
      "text/plain": [
       "0.04809409476800397"
      ]
     },
     "execution_count": 11,
     "metadata": {},
     "output_type": "execute_result"
    }
   ],
   "source": [
    "def resolve(coef,x):\n",
    "    y = 0;\n",
    "    for i in range(len(coef)):\n",
    "        y+=(coef[i])*(x**i)\n",
    "    return y\n",
    "resolve(pol,2.254)"
   ]
  },
  {
   "cell_type": "markdown",
   "metadata": {
    "colab_type": "text",
    "id": "2mzy8dnkFoil"
   },
   "source": [
    "Outra coisa importante pode ser uma função para calcular a derivada de um polinômio (isto pode ser útil para calcular a multiplicidade de uma raiz:"
   ]
  },
  {
   "cell_type": "code",
   "execution_count": 12,
   "metadata": {
    "colab": {
     "base_uri": "https://localhost:8080/",
     "height": 52
    },
    "colab_type": "code",
    "executionInfo": {
     "elapsed": 983,
     "status": "ok",
     "timestamp": 1556020155751,
     "user": {
      "displayName": "BRENDA AGUIAR OLIVEIRA",
      "photoUrl": "",
      "userId": "00452942362272340037"
     },
     "user_tz": 240
    },
    "id": "pWB-o44-Foim",
    "outputId": "7de208c9-93cf-4be4-8012-6578d61d89b2"
   },
   "outputs": [],
   "source": [
    "def deriva(coef):\n",
    "    for i in range(1,len(coef)):\n",
    "        coef[i-1] =  coef[i]*i\n",
    "    coef = coef[0:-1]\n",
    "    return coef\n",
    "\n",
    "\n",
    "def multiplicidade(coef,raiz):\n",
    "    v = coef\n",
    "    multi =0\n",
    "    while resolve(v,raiz) ==0 and len(v)> 0:\n",
    "        v = deriva(v)\n",
    "        multi +=1\n",
    "    return multi\n"
   ]
  },
  {
   "cell_type": "code",
   "execution_count": 13,
   "metadata": {},
   "outputs": [
    {
     "name": "stdout",
     "output_type": "stream",
     "text": [
      "[  0   8 -18  12]\n"
     ]
    }
   ],
   "source": [
    "print(str(deriva(pol)))"
   ]
  },
  {
   "cell_type": "markdown",
   "metadata": {
    "colab_type": "text",
    "id": "bAM_IjisFoiq"
   },
   "source": [
    "Teste seu código com a multiplicidade da raiz 1 no seguinte polinômio: $x^4+2x^3-12x^2+14x-5$:"
   ]
  },
  {
   "cell_type": "code",
   "execution_count": 14,
   "metadata": {
    "colab": {
     "base_uri": "https://localhost:8080/",
     "height": 34
    },
    "colab_type": "code",
    "executionInfo": {
     "elapsed": 739,
     "status": "ok",
     "timestamp": 1556020161198,
     "user": {
      "displayName": "BRENDA AGUIAR OLIVEIRA",
      "photoUrl": "",
      "userId": "00452942362272340037"
     },
     "user_tz": 240
    },
    "id": "HKa3aiy9Foir",
    "outputId": "22cdba88-1dcc-4ccf-c444-f537b8c80814"
   },
   "outputs": [
    {
     "data": {
      "text/plain": [
       "3"
      ]
     },
     "execution_count": 14,
     "metadata": {},
     "output_type": "execute_result"
    }
   ],
   "source": [
    "p = np.array([-5, 14, -12, 2, 1])\n",
    "\n",
    "multiplicidade(p,1)\n"
   ]
  },
  {
   "cell_type": "markdown",
   "metadata": {
    "colab_type": "text",
    "id": "dkXp_CFIFoit"
   },
   "source": [
    "Outro fator importante para encontrar as raízes de uma equação algébrica é o uso do teorema de Lagrange para encontrar os limites das raízes positivas e das negativas. Faça uma função que calcule o valor de Lagrange para um polinômio e outra que, dada os coeficientes de uma equação algébrica, retorne os quatro limites:"
   ]
  },
  {
   "cell_type": "code",
   "execution_count": 15,
   "metadata": {
    "colab": {},
    "colab_type": "code",
    "id": "V3nPQgkYBgKr"
   },
   "outputs": [],
   "source": [
    "def lagrange(coef):\n",
    "    n = len(coef)-1\n",
    "    if (coef[n] < 0):\n",
    "        coef = coef*(-1)\n",
    "    cn = coef[n]\n",
    "    k = 0\n",
    "    b = coef.min() *-1\n",
    "    for i in range(n,-1,-1):\n",
    "        if(coef[i]<0):\n",
    "            k = i\n",
    "            break\n",
    "    return (1+(b/cn)**(1/(n-k))) "
   ]
  },
  {
   "cell_type": "code",
   "execution_count": 16,
   "metadata": {},
   "outputs": [
    {
     "data": {
      "text/plain": [
       "4.464101615137754"
      ]
     },
     "execution_count": 16,
     "metadata": {},
     "output_type": "execute_result"
    }
   ],
   "source": [
    "pt = np.array([-5,14,-12,2,1])\n",
    "lagrange(pt)"
   ]
  },
  {
   "cell_type": "code",
   "execution_count": 17,
   "metadata": {
    "colab": {},
    "colab_type": "code",
    "id": "LMANmjj2BgKy"
   },
   "outputs": [],
   "source": [
    "def LimitesAlgebricos(coef):\n",
    "    n= len(coef)-1\n",
    "    limiteSupPos = lagrange(coef)\n",
    "    limiteInfPos = 1/(lagrange(coef[::-1]))\n",
    "    for i in range(n+1):\n",
    "        if(i%2 != 0):\n",
    "            coef[i]= coef[i]*-1\n",
    "    limiteInfNeg = -(lagrange(coef))\n",
    "    p3= coef[::-1]\n",
    "    limiteSupNeg= -(1/(lagrange(p3)))\n",
    "    return (limiteSupPos,limiteInfPos,limiteSupNeg,limiteInfNeg)"
   ]
  },
  {
   "cell_type": "markdown",
   "metadata": {
    "colab_type": "text",
    "id": "5P7DTWoAFoiw"
   },
   "source": [
    "\n",
    "Verifique o funcionamento das suas funções criadas para o polinomio: $-x^4-2x^3+12x^2-14x+5$"
   ]
  },
  {
   "cell_type": "code",
   "execution_count": 18,
   "metadata": {
    "colab": {},
    "colab_type": "code",
    "id": "P_dtoQi9Foix",
    "outputId": "830da565-3d93-4173-baf7-5223d0aafbfe"
   },
   "outputs": [
    {
     "data": {
      "text/plain": [
       "(4.464101615137754, 0.2631578947368421, -0.5992544178491148, -15.0)"
      ]
     },
     "execution_count": 18,
     "metadata": {},
     "output_type": "execute_result"
    }
   ],
   "source": [
    "p1 = np.array([5,-14,12,-2,-1])\n",
    "LimitesAlgebricos(p1)"
   ]
  },
  {
   "cell_type": "code",
   "execution_count": null,
   "metadata": {},
   "outputs": [],
   "source": []
  },
  {
   "cell_type": "markdown",
   "metadata": {
    "colab_type": "text",
    "id": "zevOKWltFoi0"
   },
   "source": [
    "Outro fator importante é a regra de sinal de descartes. Faça uma função que retorne o número de raízes positivas e negativas (se não puder precisar o número de negativas, retorne -1):"
   ]
  },
  {
   "cell_type": "code",
   "execution_count": 19,
   "metadata": {
    "colab": {},
    "colab_type": "code",
    "id": "9Ep43HSxFoi0"
   },
   "outputs": [],
   "source": [
    "def nraizes(coef):\n",
    "    npositivas = 0\n",
    "    nnegativas = 0\n",
    "    tam = len(coef)-1\n",
    "    verif = 0\n",
    "    i = 1\n",
    "    n = coef[0]\n",
    "    while(i<=tam):\n",
    "        while (coef[i]==0):\n",
    "            i+= 1\n",
    "            verif = 1\n",
    "    \n",
    "        if ((coef[i]>0 and n >0) or (coef[i]<0 and n <0)):\n",
    "            nnegativas +=1\n",
    "        else:\n",
    "            npositivas += 1\n",
    "            n = coef[i]\n",
    "        i+= 1\n",
    "        if(verif ==1):\n",
    "            nnegativas =-1\n",
    "    return (npositivas, nnegativas) "
   ]
  },
  {
   "cell_type": "markdown",
   "metadata": {
    "colab_type": "text",
    "id": "WQQMsYrIFoi3"
   },
   "source": [
    "Para a função $x^5-2x^4+x^3-2x^2+5$ e para $x^3-3x^2-6x+8$ ache o intervalo das raizes positivas e negativas, o número de raízes de cada tipo e plote um grafico para valores desde o limite inferior negativo até o limite superior positivo:"
   ]
  },
  {
   "cell_type": "code",
   "execution_count": 20,
   "metadata": {
    "colab": {},
    "colab_type": "code",
    "id": "cD589BiFBgLS",
    "outputId": "f5c1649e-d9ec-4287-e52e-908a136071b3"
   },
   "outputs": [
    {
     "data": {
      "text/plain": [
       "(3.0, 0.6125741132772068, -0.6125741132772068, -2.379729661461215)"
      ]
     },
     "execution_count": 20,
     "metadata": {},
     "output_type": "execute_result"
    }
   ],
   "source": [
    "teste = np.array([5,0,-2,1,-2,1])\n",
    "\n",
    "LimitesAlgebricos(teste)"
   ]
  },
  {
   "cell_type": "code",
   "execution_count": 21,
   "metadata": {
    "colab": {},
    "colab_type": "code",
    "id": "uK5kgw2RFoi3"
   },
   "outputs": [],
   "source": [
    "#!pip3 install matplotlib --user\n",
    "#salva no proprio notebook\n",
    "import matplotlib.pyplot as plt\n",
    "%matplotlib inline "
   ]
  },
  {
   "cell_type": "code",
   "execution_count": 22,
   "metadata": {
    "colab": {},
    "colab_type": "code",
    "id": "m_9V-hutBgLb"
   },
   "outputs": [],
   "source": [
    "\n",
    "teste = np.array([5,0,-2,1,-2,1])\n",
    "\n",
    "def func(x):\n",
    "    return (x**5)-2*(x**4)+(x**3)-2*(x**2)+5\n",
    "    \n",
    "def LimitesAlgebricos(coef):\n",
    "    n= len(coef)-1\n",
    "    limiteSupPos = lagrange(coef)\n",
    "    limiteInfPos = 1/(lagrange(coef[::-1]))\n",
    "    for i in range(n+1):\n",
    "        if(i%2 != 0):\n",
    "            coef[i]= coef[i]*-1\n",
    "    limiteInfNeg = -(lagrange(coef))\n",
    "    p3= coef[::-1]\n",
    "    limiteSupNeg= -(1/(lagrange(p3)))\n",
    "    \n",
    "    x = np.linspace(-7,7,1000)\n",
    "    ax = plt.gca()\n",
    "    ax.spines['right'].set_color('none')\n",
    "    ax.spines['top'].set_color('none')\n",
    "    ax.spines['bottom'].set_position(('data',0))\n",
    "    ax.spines['left'].set_position(('data',0))\n",
    "    ax.xaxis.set_ticks_position('bottom')\n",
    "    ax.yaxis.set_ticks_position('left')\n",
    "    \n",
    "    plt.xticks(np.linspace(-15,15,11))\n",
    "    plt.yticks(np.linspace(-15,15,11))\n",
    "    plt.xlim(-15,15)\n",
    "    plt.ylim(-15,15)\n",
    "    plt.axhline(0, color='black',linewidth=1)\n",
    "    plt.scatter(limiteSupPos,0, 40, color ='black', label=\"Limites Superior Positivo\")\n",
    "    plt.scatter(limiteInfPos,0, 40, color ='green', label=\"Limites Inferior Positivo\")\n",
    "    plt.scatter(limiteSupNeg,0, 40, color ='red', label=\"limites Superior Negativo\")\n",
    "    plt.scatter(limiteInfNeg,0, 40, color ='blue', label=\"limites Inferior Negativo\")\n",
    "    plt.legend(bbox_to_anchor=(1.05,1), loc = 2, borderaxespad =0)\n",
    "    plt.plot(x, func(x))\n",
    "    plt.show()\n",
    "\n",
    "    return (limiteSupPos,limiteInfPos,limiteSupNeg,limiteInfNeg)\n",
    "    "
   ]
  },
  {
   "cell_type": "code",
   "execution_count": 23,
   "metadata": {
    "colab": {},
    "colab_type": "code",
    "id": "yVn3frPlBgLg",
    "outputId": "56d206ba-48a7-428a-ca9b-14177af8970e"
   },
   "outputs": [
    {
     "data": {
      "image/png": "[encoded data removed]",
      "text/plain": [
       "<Figure size 432x288 with 1 Axes>"
      ]
     },
     "metadata": {
      "needs_background": "light"
     },
     "output_type": "display_data"
    },
    {
     "data": {
      "text/plain": [
       "(3.0, 0.6125741132772068, -0.6125741132772068, -2.379729661461215)"
      ]
     },
     "execution_count": 23,
     "metadata": {},
     "output_type": "execute_result"
    }
   ],
   "source": [
    "LimitesAlgebricos(teste)"
   ]
  },
  {
   "cell_type": "code",
   "execution_count": 24,
   "metadata": {},
   "outputs": [],
   "source": [
    "\n",
    "teste1 = np.array([8,-6,-3,1]) #encontrar os limites\n",
    "def func1(x):\n",
    "    return (x**3)-3*(x**2)-6*x+8 # plotar a funcao\n",
    "\n",
    "def LimitesAlgebricos(coef):\n",
    "    n= len(coef)-1\n",
    "    limiteSupPos = lagrange(coef)\n",
    "    limiteInfPos = 1/(lagrange(coef[::-1]))\n",
    "    for i in range(n+1):\n",
    "        if(i%2 != 0):\n",
    "            coef[i]= coef[i]*-1\n",
    "    limiteInfNeg = -(lagrange(coef))\n",
    "    p3= coef[::-1]\n",
    "    limiteSupNeg= -(1/(lagrange(p3)))\n",
    "    \n",
    "    x = np.linspace(-7,7,1000)\n",
    "    \n",
    "    ax = plt.gca()\n",
    "    ax.spines['right'].set_color('none')\n",
    "    ax.spines['top'].set_color('none')\n",
    "    ax.spines['bottom'].set_position(('data',0))\n",
    "    ax.spines['left'].set_position(('data',0))\n",
    "    ax.xaxis.set_ticks_position('bottom')\n",
    "    ax.yaxis.set_ticks_position('left')\n",
    "    \n",
    "    plt.xticks(np.linspace(-15,15,11))\n",
    "    plt.yticks(np.linspace(-15,15,11))\n",
    "    plt.xlim(-16,16)\n",
    "    plt.ylim(-15,15)\n",
    "    plt.axhline(0, color='black',linewidth=1)\n",
    "    plt.scatter(limiteSupPos,0, 40, color ='black', label=\"Limites Superior Positivo\")\n",
    "    plt.scatter(limiteInfPos,0, 40, color ='green', label=\"Limites Inferior Positivo\")\n",
    "    plt.scatter(limiteSupNeg,0, 40, color ='red', label=\"limites Superior Negativo\")\n",
    "    plt.scatter(limiteInfNeg,0, 40, color ='blue', label=\"limites Inferior Negativo\")\n",
    "    plt.legend(bbox_to_anchor=(1.05,1), loc = 2, borderaxespad =0)\n",
    "    plt.plot(x, func1(x))\n",
    "    plt.show()\n",
    "\n",
    "    return (limiteSupPos, limiteInfPos, limiteSupNeg, limiteInfNeg)"
   ]
  },
  {
   "cell_type": "code",
   "execution_count": 25,
   "metadata": {},
   "outputs": [
    {
     "data": {
      "image/png": "[encoded data removed]",
      "text/plain": [
       "<Figure size 432x288 with 1 Axes>"
      ]
     },
     "metadata": {
      "needs_background": "light"
     },
     "output_type": "display_data"
    },
    {
     "data": {
      "text/plain": [
       "(7.0, 0.5714285714285714, -0.6202041028867288, -3.8284271247461903)"
      ]
     },
     "execution_count": 25,
     "metadata": {},
     "output_type": "execute_result"
    }
   ],
   "source": [
    "LimitesAlgebricos(teste1)"
   ]
  },
  {
   "cell_type": "markdown",
   "metadata": {
    "colab_type": "text",
    "id": "Q7XOeadgFoi5"
   },
   "source": [
    "Faça um programa que receba uma equação transcendente (na forma de função) e um ponto e tente descobrir um intervalo com uma raiz (slide 80 de isolamento de raízes):"
   ]
  },
  {
   "cell_type": "code",
   "execution_count": 26,
   "metadata": {
    "colab": {},
    "colab_type": "code",
    "id": "gag6MMTIFoi6"
   },
   "outputs": [],
   "source": [
    "def achaIntervalo(f,z): #Voce pode rodar a função aqui dentro chamando f(x)\n",
    "    if(z==0):\n",
    "        a = -0.05\n",
    "        b = 0.05\n",
    "    else:\n",
    "        a = 0.95*z\n",
    "        b = 1.05*z\n",
    "    while(f(a)*f(b)>0):\n",
    "        if(f(a)<f(b)):\n",
    "            a = a-0.5\n",
    "        else:\n",
    "            b = b+0.5\n",
    "    #chama a derivada la de cima\n",
    "\n",
    "    return (a,b) #intervalo"
   ]
  },
  {
   "cell_type": "markdown",
   "metadata": {
    "colab_type": "text",
    "id": "NZbYHGGCFoi8"
   },
   "source": [
    "Teste seu método com a função abaixo:"
   ]
  },
  {
   "cell_type": "code",
   "execution_count": 27,
   "metadata": {
    "colab": {},
    "colab_type": "code",
    "id": "djR5UZYfFoi9",
    "outputId": "afcb0304-f76d-45b7-c0f8-84c33c5c4282"
   },
   "outputs": [
    {
     "data": {
      "text/plain": [
       "(2.375, 2.625)"
      ]
     },
     "execution_count": 27,
     "metadata": {},
     "output_type": "execute_result"
    }
   ],
   "source": [
    "def func2(x):\n",
    "    return np.sin(x**2)\n",
    "\n",
    "achaIntervalo(func2,2.5)"
   ]
  },
  {
   "cell_type": "markdown",
   "metadata": {
    "colab_type": "text",
    "id": "rFpnWjISFojA"
   },
   "source": [
    "Agora vamos implementar a bissecção. O método da bissecção recebe como parametro uma função e um intervalo, e encontra uma raiz neste intervalo usando uma busca binária. O método pode ter três critérios de parada:\n",
    "\n",
    "- Número de Iterações\n",
    "- Proximidade da raiz\n",
    "- Proximidade entre iterações.\n",
    "\n",
    "Aqui vamos implementar **os três**"
   ]
  },
  {
   "cell_type": "code",
   "execution_count": 28,
   "metadata": {
    "colab": {},
    "colab_type": "code",
    "id": "YMCdarGSFojB"
   },
   "outputs": [],
   "source": [
    "def bisseccao(f,a,b, niter=1000,minimo = 0.000001, proximidadeIter = 0.000001):\n",
    "    i=0\n",
    "    raiz=(a+b)/2 # ((-30+(-1))/2) \n",
    "    while(i<niter and ((b-a)>proximidadeIter) and (f(raiz)>minimo or f(raiz)<0)):\n",
    "        if(f(a)*f(raiz)<0):\n",
    "            b = raiz\n",
    "        elif(f(b)*f(raiz)<0):\n",
    "            a = raiz\n",
    "        raiz = (a+b)/2\n",
    "        i+=1\n",
    "    return raiz, i"
   ]
  },
  {
   "cell_type": "markdown",
   "metadata": {
    "colab_type": "text",
    "id": "X5LJauwWFojI"
   },
   "source": [
    "Agora vamos testar nosso método da bissecção com a função $e^x-x-2$ para o intervalo [-30,-1]:"
   ]
  },
  {
   "cell_type": "code",
   "execution_count": 29,
   "metadata": {
    "colab": {},
    "colab_type": "code",
    "id": "rcJC1WqCFojJ"
   },
   "outputs": [],
   "source": [
    "def f(x):\n",
    "    return np.exp(x)-x-2"
   ]
  },
  {
   "cell_type": "code",
   "execution_count": 30,
   "metadata": {
    "colab": {},
    "colab_type": "code",
    "id": "Z6vbvnF4BgMH",
    "outputId": "b936baf1-181e-4be8-8a77-f4e81eab1ebf"
   },
   "outputs": [
    {
     "data": {
      "text/plain": [
       "(-1.8414057493209839, 22)"
      ]
     },
     "execution_count": 30,
     "metadata": {},
     "output_type": "execute_result"
    }
   ],
   "source": [
    "bisseccao(f,-30,-1)"
   ]
  },
  {
   "cell_type": "code",
   "execution_count": null,
   "metadata": {},
   "outputs": [],
   "source": []
  }
 ],
 "metadata": {
  "colab": {
   "name": "Laboratório de Raízes de equações.ipynb",
   "provenance": [],
   "version": "0.3.2"
  },
  "kernelspec": {
   "display_name": "Python 3",
   "language": "python",
   "name": "python3"
  },
  "language_info": {
   "codemirror_mode": {
    "name": "ipython",
    "version": 3
   },
   "file_extension": ".py",
   "mimetype": "text/x-python",
   "name": "python",
   "nbconvert_exporter": "python",
   "pygments_lexer": "ipython3",
   "version": "3.7.1"
  }
 },
 "nbformat": 4,
 "nbformat_minor": 1
}
