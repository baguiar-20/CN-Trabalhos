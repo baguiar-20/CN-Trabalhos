{
 "cells": [
  {
   "cell_type": "markdown",
   "metadata": {
    "colab_type": "text",
    "id": "xg9bcPF5KE7W"
   },
   "source": [
    "# Métodos Iterativos #\n",
    "\n",
    "### Critérios de parada ###\n",
    "\n",
    "Antes de implementarmos os métodos iterativos, temos que implementar um método para o critério de parada. No nosso caso, usaremos a _norma infinita_. A norma infinita é dada por:\n",
    "\n",
    "$$\\lVert v \\rVert_{\\infty} = \\max_{1\\leq i\\leq n}|v_i|$$ \n",
    "\n",
    "E a distância entre duas soluções iteradas $x^k$ e $x^{k-1}$ pode ser dada por:\n",
    "\n",
    "$$ \\frac{\\lVert x^k - x^{k-1} \\rVert_{\\infty}}{\\lVert x^k\\rVert_{\\infty}} = \\frac{\\max\\limits_{1\\leq i\\leq n}|x_i^{k} - x_i^{k-1}|}{\\max\\limits_{1\\leq i\\leq n}|x_i^k|} \\leq \\epsilon$$\n",
    "\n",
    "Faça uma função para retornar a distância usando a norma infinita de dois vetores:"
   ]
  },
  {
   "cell_type": "code",
   "execution_count": null,
   "metadata": {
    "colab": {},
    "colab_type": "code",
    "id": "Jd2jjQKZKE7Y"
   },
   "outputs": [],
   "source": [
    "import numpy as np"
   ]
  },
  {
   "cell_type": "code",
   "execution_count": null,
   "metadata": {
    "colab": {
     "base_uri": "https://localhost:8080/",
     "height": 34
    },
    "colab_type": "code",
    "executionInfo": {
     "elapsed": 955,
     "status": "ok",
     "timestamp": 1558959341134,
     "user": {
      "displayName": "BRENDA AGUIAR OLIVEIRA",
      "photoUrl": "",
      "userId": "00452942362272340037"
     },
     "user_tz": 240
    },
    "id": "YnhemeqEKE7b",
    "outputId": "4e1ef294-ed80-417d-b619-cf10f9cdaaa4"
   },
   "outputs": [],
   "source": [
    "x0 = np.array([5.7, 2.5 , -0.8])\n",
    "x1 = np.array([4.79, 0.975, -2.44])\n",
    "\n",
    "#tem outra forma de implementar a normaInf\n",
    "def normaInf(v1, v2):\n",
    "    norma = 0\n",
    "    v1 = abs(v1)\n",
    "    v2 = abs(v2)\n",
    "    x = np.zeros(len(v1))\n",
    "    for i in range(len(v1)):\n",
    "        x[i] = abs(v2[i] - v1[i])\n",
    "    norma = max(x)/max(v2)\n",
    "    return norma\n",
    "\n",
    "#essa q é usando a magica do python\n",
    "def normaInfversion2(v1,v2):\n",
    "    norma =0\n",
    "    for i in range(len(v1)):\n",
    "        norma = np.linalg.norm(v2 - v1, np.inf)/np.linalg.norm(v2, np.inf)\n",
    "    return norma\n",
    "\n",
    "#normaInfversion2(x0,x1)\n",
    "\n",
    "normaInf(x0, x1) \n",
    "#mas eu usei a versao 1 msm"
   ]
  },
  {
   "cell_type": "markdown",
   "metadata": {
    "colab_type": "text",
    "id": "qQswsVneKE7h"
   },
   "source": [
    "## Jacobi ##\n",
    "\n",
    "Para resolver o método de Jacobi, se deve decompor a matriz $A$ em três matrizes compostas dos seus elementos, $D$ (Diagonal), $E$ (triangular inferior) e $F$ (triangular superior).\n",
    "\n",
    "\n",
    "De posse destes elementos, deve-se utilizar esta fórmula de iteração:\n",
    "\n",
    "$$ x^{k+1}=-D^{-1}(E+F)x+D^{-1}b $$\n",
    "\n",
    "Lembrando que para D ter inversa, nenhum elemento da diagonal principal de A pode ser nulo.\n",
    "\n",
    "Desta forma, eu posso utilizar a forma matricial acima para computar as respostas. Implemente o método de Jacobi matricial abaixo:"
   ]
  },
  {
   "cell_type": "code",
   "execution_count": null,
   "metadata": {
    "colab": {},
    "colab_type": "code",
    "id": "ZW_dku8VKE7m"
   },
   "outputs": [],
   "source": [
    "def jacobiM(A,b, niter = 1000, minimo=0.000001):\n",
    "    A = A.astype('double')  \n",
    "    b = b.astype('double')\n",
    "    Di = np.diag(np.diag(1/A))\n",
    "    j = np.zeros(len(A))\n",
    "    x = np.copy(b)\n",
    "    EF = A -np.diag(np.diag(A))\n",
    "    n = 0\n",
    "    xk = np.zeros(len(b))\n",
    "    #decompondo\n",
    "    j = np.matmul(-Di,EF) # gerar a matriz j\n",
    "    x = np.matmul(Di,b)\n",
    "    # norma infinita e o k maximo de iteraçoes\n",
    "    # criterio de parada para o minimo e quando a distancia dos dois vetores for menor q o minimo\n",
    "    while( (n < niter) or (normaInf(xk,x) > minimo)): \n",
    "        xk = x\n",
    "        x = np.matmul(j,x) + np.matmul(Di,b)  # aq e a formula x^k+1 = j*x^k + c\n",
    "        n +=1\n",
    "    return x"
   ]
  },
  {
   "cell_type": "code",
   "execution_count": null,
   "metadata": {
    "colab": {},
    "colab_type": "code",
    "id": "rerIyZP5KE7p",
    "outputId": "5293e507-03f3-4465-b0b2-3d6cb5eb7c81"
   },
   "outputs": [],
   "source": [
    "a = np.array([[10,3,-2], \n",
    "              [2,8,-1],\n",
    "              [1,1,5]])\n",
    "b = np.array([57,20, -4])\n",
    "jacobiM(a,b)"
   ]
  },
  {
   "cell_type": "markdown",
   "metadata": {
    "colab_type": "text",
    "id": "zHhcRugJKE7s"
   },
   "source": [
    "Outra forma de implementar Jacobi é através da fórmula escalar:\n",
    "\n",
    "$$x_i^{k+1}=\\frac{1}{a_{ii}} - \\left( \\sum\\limits_{\\substack{j=1 \\\\ i\\neq j}}^{n}{a_{ij}x_j^k+b_i} \\right)$$\n",
    "\n",
    "Implemente a forma escalar do jacobi:"
   ]
  },
  {
   "cell_type": "code",
   "execution_count": null,
   "metadata": {},
   "outputs": [],
   "source": [
    "def jacobiE(A,b,niter=1000,minimo = 0.000001):   \n",
    "    A = A.astype('double')  \n",
    "    b = b.astype('double')\n",
    "    xk = np.zeros(len(b))\n",
    "    n=np.shape(A)[0]  \n",
    "    x = np.copy(b)  \n",
    "    it = 0 \n",
    "    while (it < niter or normaInf(xk,x) > minimo):\n",
    "        it = it+1 \n",
    "        for i in np.arange(n):  \n",
    "            x[i] = b[i]  \n",
    "            for j in np.concatenate((np.arange(0,i),np.arange(i+1,n))):  \n",
    "                x[i] -= A[i,j]*xk[j]  \n",
    "            x[i] /= A[i,i] \n",
    "        xk = np.copy(x)\n",
    "    return x\n"
   ]
  },
  {
   "cell_type": "code",
   "execution_count": null,
   "metadata": {
    "colab": {},
    "colab_type": "code",
    "id": "vKCucBmsKE7v",
    "outputId": "789ce10e-607e-4bf9-8497-14c5053a55b3"
   },
   "outputs": [],
   "source": [
    "\n",
    "a = np.array([[10,3,-2], \n",
    "              [2,8,-1],\n",
    "              [1,1,5]])\n",
    "b = np.array([57,20, -4])\n",
    "\n",
    "jacobiE(a,b)"
   ]
  },
  {
   "cell_type": "markdown",
   "metadata": {
    "colab_type": "text",
    "id": "Ads0wLW8KE7z"
   },
   "source": [
    "Para o método de Jacobi (e o Gauss-Seidel) convergirem para um resultado correto, elas tem que ter condições de convergência:\n",
    "\n",
    "- Condição suficiente: Elementos da diagonal principal estritamente dominantes.\n",
    "\n",
    "$$ |a_{ii}|> \\sum\\limits_{\\substack{j=1 \\\\ j\\neq i}}^{n}{|a_{ij}|,i=1,2,...,n}$$\n",
    "\n",
    "Esta condição se verdadeira garante a convergência. Contudo, mesmo se ela for falsa o sistema ainda pode convergir.\n",
    "\n",
    "- Condição necessária: $\\rho(M)<1$, sendo $\\rho(M)$ o raio espectral, o maior autovalor em módulo.\n",
    "\n",
    "Faça uma função que verifique se um sistema com uma matriz de coeficientes A pode ser solucionado via jacobi, testando primeiro a condição suficiente e, em caso negativo, testando a condição necessária:"
   ]
  },
  {
   "cell_type": "code",
   "execution_count": null,
   "metadata": {
    "colab": {},
    "colab_type": "code",
    "id": "YNcoxdA_KE70",
    "outputId": "35283eef-58aa-4cd0-cfce-4f910803eef1"
   },
   "outputs": [],
   "source": [
    "def verificaDominante(A):\n",
    "    v = A.diagonal()\n",
    "    for i in range(len(A)):\n",
    "        for j in range(len(A)):\n",
    "            if(i != j):\n",
    "                if(v[j] < A[i,j]):\n",
    "                    return False\n",
    "    return True\n",
    "\n",
    "def verificaRaioEspectral(A):\n",
    "    (x,_) = np.linalg.eig(A)\n",
    "    if (max(x) < 1):\n",
    "        return True\n",
    "    else:\n",
    "        return False\n",
    "    \n",
    "\n",
    "def podeJacobi(A):\n",
    "    t = verificaDominante(A)\n",
    "    v = verificaRaioEspectral(A)\n",
    "    if(t == True or v == True):\n",
    "        return True\n",
    "    else:\n",
    "        return False\n",
    "\n",
    "M3 = np.array([[9,-6,3],\n",
    "               [-6,29,-7],\n",
    "               [3,-7,18]])\n",
    "b3 = np.array([-3,-8,33])\n",
    "\n",
    "verificaDominante(M3)\n"
   ]
  },
  {
   "cell_type": "markdown",
   "metadata": {
    "colab_type": "text",
    "id": "YIs63fuBKE75"
   },
   "source": [
    "## Gauss-Seidel ##\n",
    "\n",
    "Função de iteração:\n",
    "\n",
    "$$ x^{k+1}=D^{-1}(-Ex^{k+1}-Fx^{k}+b)$$\n",
    "\n",
    "Lembrando que multiplicar por $D^{-1}$ é o mesmo que dividir cada linha pelo elemento da diagonal principal desta linha em A\n",
    "\n",
    "A forma mais simples de fazer o Gauss Seidel matricialmente é linha a linha (calculando a formula acima pra cada linha da solução X)\n",
    "\n",
    "Implemente Gauss-Seidel na forma Matricial e na forma escalar (acessando os elementos individualmente das matrizes)"
   ]
  },
  {
   "cell_type": "code",
   "execution_count": null,
   "metadata": {
    "colab": {},
    "colab_type": "code",
    "id": "ZLCmvNtnKE76"
   },
   "outputs": [],
   "source": [
    "def gaussM(A,b,niter=1000,minimo = 0.000001):\n",
    "    n = 0\n",
    "    Di = np.diag(np.diag(1/A))\n",
    "    E = np.tril(A, k=-1)\n",
    "    F = np.triu(A, k = 1)\n",
    "    xk = np.zeros(len(b))\n",
    "    r = np.zeros(len(A))\n",
    "    x = np.matmul(Di,b)\n",
    "    Fx = np.matmul(F,x)\n",
    "    while(n < niter or normaInf(xk,x) > minimo):\n",
    "        xk = x\n",
    "        Ex = np.matmul(E,x)\n",
    "        t = - Ex - Fx + b\n",
    "        x = np.matmul(Di,t)\n",
    "        n += 1\n",
    "    return x\n"
   ]
  },
  {
   "cell_type": "code",
   "execution_count": null,
   "metadata": {
    "colab": {},
    "colab_type": "code",
    "id": "JflUQ0kDKE78",
    "outputId": "79c5bb9a-0a07-4d79-e0e8-ee6a68fc0dcf"
   },
   "outputs": [],
   "source": [
    "a = np.array([[10,3,-2], \n",
    "              [2,8,-1],\n",
    "              [1,1,5]])\n",
    "b = np.array([57,20, -4])\n",
    "\n",
    "gaussM(a,b)"
   ]
  },
  {
   "cell_type": "code",
   "execution_count": null,
   "metadata": {},
   "outputs": [],
   "source": [
    "def gaussE(A,b,niter=1000,minimo = 0.000001):  \n",
    "    #preliminares  \n",
    "    A = A.astype('double')  \n",
    "    b = b.astype('double')\n",
    "    xk = np.zeros(len(b))\n",
    "    n=np.shape(A)[0]  \n",
    "    x = np.copy(b)  \n",
    "    it = 0 \n",
    "    while (it < niter or normaInf(xk, x) > minimo):  \n",
    "        it = it+1\n",
    "        xk = x  \n",
    "        for i in np.arange(n):  \n",
    "            x[i] = b[i]  \n",
    "            for j in np.concatenate((np.arange(0,i),np.arange(i+1,n))):  \n",
    "                x[i] -= A[i,j]*x[j]  \n",
    "            x[i] /= A[i,i]  \n",
    "    return n\n",
    "         "
   ]
  },
  {
   "cell_type": "code",
   "execution_count": null,
   "metadata": {},
   "outputs": [],
   "source": [
    "a = np.array([[10,3,-2], \n",
    "              [2,8,-1],\n",
    "              [1,1,5]])\n",
    "b = np.array([57,20, -4])\n",
    "\n",
    "gaussE(a,b)"
   ]
  },
  {
   "cell_type": "markdown",
   "metadata": {
    "colab_type": "text",
    "id": "argQ6WuBKE8G"
   },
   "source": [
    "# Implementação dos metodos exatos:##\n",
    "Tringular Superior:"
   ]
  },
  {
   "cell_type": "code",
   "execution_count": null,
   "metadata": {
    "colab": {},
    "colab_type": "code",
    "id": "Q4VeCbj6KE8I"
   },
   "outputs": [],
   "source": [
    "def resolveTS(A,b): #A Triangular Superior\n",
    "    x= np.zeros(len(A))\n",
    "    for i in range(len(A)-1, -1,-1):\n",
    "        x[i]=(b[i]-(A[i,i+1:]*x[i+1:]).sum())/A[i,i]\n",
    "    return x"
   ]
  },
  {
   "cell_type": "markdown",
   "metadata": {
    "colab_type": "text",
    "id": "WSPDYk3MKE8L"
   },
   "source": [
    "Triangular Inferior:"
   ]
  },
  {
   "cell_type": "code",
   "execution_count": null,
   "metadata": {
    "colab": {},
    "colab_type": "code",
    "id": "U-9cfVe3KE8M"
   },
   "outputs": [],
   "source": [
    "def resolveTI(A,b): #A Triangular Inferior\n",
    "    m = len(A)\n",
    "    n = len(A[0])\n",
    "    k=0\n",
    "    x = np.zeros(n)\n",
    "    for i in range(0,m):\n",
    "        k=0\n",
    "        for j in range(0,n-1):\n",
    "            k = A[i][j] * x[j]\n",
    "        x[i] = (b[i]-k)/A[i][i]\n",
    "        \n",
    "    return x"
   ]
  },
  {
   "cell_type": "markdown",
   "metadata": {
    "colab_type": "text",
    "id": "j1CfyU10KE8Q"
   },
   "source": [
    "## Eliminação Gaussiana"
   ]
  },
  {
   "cell_type": "code",
   "execution_count": null,
   "metadata": {
    "colab": {},
    "colab_type": "code",
    "id": "sIOugMuKKE8R"
   },
   "outputs": [],
   "source": [
    "def eliminacaoGaussianaSimples(A,b):\n",
    "    pivot = 0\n",
    "    m = 0.0\n",
    "    x = np.zeros(len(A))\n",
    "    for i in range(0,len(A)-1):\n",
    "        pivot = A[i,i]\n",
    "        for j in range(i+1,len(A)):\n",
    "            if (pivot == 0):\n",
    "                m = 0\n",
    "            else:\n",
    "                m = A[j,i]/pivot\n",
    "            A[j] =  A[j] - (m*A[i])\n",
    "            b[j] = b[j] - (m*b[i])       \n",
    "    x = resolveTS(A,b)\n",
    "    return x"
   ]
  },
  {
   "cell_type": "markdown",
   "metadata": {
    "colab_type": "text",
    "id": "4vBT7-ovKE8V"
   },
   "source": [
    "## Decomposição LU ##\n"
   ]
  },
  {
   "cell_type": "code",
   "execution_count": null,
   "metadata": {
    "colab": {},
    "colab_type": "code",
    "id": "WOU61HEjKE8W"
   },
   "outputs": [],
   "source": [
    "# decompor A para:\n",
    "#deixar o triangulo inferior nulo para isso usar a funcao \n",
    "\n",
    "def decompoeLU(A):  \n",
    "    U = np.copy(A)  \n",
    "    n = np.shape(U)[0]  \n",
    "    L = np.eye(n)  \n",
    "    for j in np.arange(n-1):  \n",
    "        for i in np.arange(j+1,n):  \n",
    "            L[i,j] = U[i,j]/U[j,j]  \n",
    "            for k in np.arange(j+1,n):  \n",
    "                U[i,k] = U[i,k] - L[i,j]*U[j,k]  \n",
    "            U[i,j] = 0  \n",
    "    return (L, U)\n",
    "\n",
    "\n",
    "#funciona\n",
    "def resolveLU(L,U,b):\n",
    "    t = resolveTI(L,b)\n",
    "    x = resolveTS(U,t)\n",
    "    return x"
   ]
  },
  {
   "cell_type": "markdown",
   "metadata": {
    "colab_type": "text",
    "id": "ykPxoVJdKE8b"
   },
   "source": [
    "#### Pivotação Parcial ###"
   ]
  },
  {
   "cell_type": "code",
   "execution_count": null,
   "metadata": {
    "colab": {},
    "colab_type": "code",
    "id": "RCwJS7hfKE8b"
   },
   "outputs": [],
   "source": [
    "def verificaPivot(A):# escolher a maior linha em modulo\n",
    "    for i in range(0,len(A)):\n",
    "        if np.linalg.det(A[:i+1,:i+1]) != 0:\n",
    "            return 0\n",
    "    return 1\n",
    "\n",
    "def LUparcial(A):\n",
    "    P = np.eye(len(A))\n",
    "    L = np.eye(len(A))\n",
    "    i = 0\n",
    "    for i in range(0,len(A)-1):\n",
    "        im = np.argmax(abs(A[i:,i])) + i\n",
    "        pivo = A[im][i]\n",
    "        for j in range(i,len(A)):        \n",
    "            m = A[j][i] / pivo\n",
    "            if j != im: \n",
    "                A[j] = A[j] - A[im] * m\n",
    "                if j < im: \n",
    "                    L[j+1][i] = m\n",
    "                else: \n",
    "                    L[j][i] = m\n",
    "    \n",
    "        A[[i,im]]=A[[im,i]]\n",
    "        P[[i,im]]=P[[im,i]]    \n",
    "    U = A\n",
    "    return L,U,P\n",
    "\n",
    "def resolveLUpar(L,U,P,b):\n",
    "    y = resolveTI(L,np.dot(P,b))\n",
    "    x = resolveTS(U, y)\n",
    "    return x\n"
   ]
  },
  {
   "cell_type": "markdown",
   "metadata": {
    "colab_type": "text",
    "id": "DJG0HVB6KE8d"
   },
   "source": [
    "## Cholesky ##"
   ]
  },
  {
   "cell_type": "code",
   "execution_count": null,
   "metadata": {
    "colab": {},
    "colab_type": "code",
    "id": "4llYYrbAKE8e"
   },
   "outputs": [],
   "source": [
    "#sim, funciona\n",
    "def simetrica(A):\n",
    "    At = A[:,:].T\n",
    "    x = np.equal(A, At)\n",
    "    if(np.all(x == True)): #verificar se a A e igual a transposta de A (Simetria)\n",
    "        return True\n",
    "\n",
    "def diagonalPositiva(A):\n",
    "    if(np.all(A.diagonal() > 0)): #verificar se a diagonal principal e positiva\n",
    "        return True\n",
    "\n",
    "def autoValPos(A):\n",
    "    (a,_) = np.linalg.eig(A)\n",
    "    for i in range(len(A)): # autovalores positivos\n",
    "        if(a[i] < 0):\n",
    "            return False\n",
    "        else:\n",
    "            return True\n",
    "def subMatDetPos(A):\n",
    "     for j in range(len(A)):\n",
    "        t = np.linalg.det(A[0:j,0:j]) # determinantes das submatrizes positivas\n",
    "        if(t < 0):\n",
    "            return False\n",
    "        else:\n",
    "            return True      \n",
    "def verificaCholesky(A):\n",
    "    x = simetrica(A)\n",
    "    y = diagonalPositiva(A)\n",
    "    t = autoValPos(A)\n",
    "    h = subMatDetPos(A)\n",
    "    if ((x == True) and (y==True) and (t==True) and (h==True)):\n",
    "        return True\n",
    "    else:\n",
    "        return False\n",
    "      \n",
    "\n",
    "def geraCholesky(A):\n",
    "    L = [[0.0] * len(A) for _ in range(len(A))]\n",
    "    for i, (Ai, Li) in enumerate(zip(A, L)):\n",
    "        for j, Lj in enumerate(L[:i+1]):\n",
    "            s = sum(Li[k] * Lj[k] for k in range(j))\n",
    "            Li[j] = np.sqrt(Ai[i] - s) if (i == j) else \\\n",
    "                      (1.0 / Lj[j] * (Ai[j] - s))\n",
    "    L = np.array(L)\n",
    "    return L\n",
    "\n",
    "def resolveCholesky(A,b):\n",
    "    a = verificaCholesky(A)\n",
    "    if(a == True):\n",
    "        L = geraCholesky(A) #gera L\n",
    "        x = resolveLU(L,L.T,b) # resolve L e a transposta de L\n",
    "        return x\n",
    "    else:\n",
    "        return -1\n",
    "\n",
    "def detCholesky(A):\n",
    "    L = geraCholesky(A)\n",
    "    detL = np.linalg.det(L)\n",
    "    detLT = np.linalg.det(L.T)\n",
    "    det = detL*detLT\n",
    "    return det"
   ]
  },
  {
   "cell_type": "markdown",
   "metadata": {
    "colab_type": "text",
    "id": "pvzxCB8yKE8g"
   },
   "source": [
    "#### Exercicios ####\n",
    "\n",
    "1 - Tente resolver todos os sistemas (de M1 a M5) com Jacobi e Gauss-Seidel, tanto na forma matricial quanto na escalar e, nos casos em que o resultado _divergir_, verifique a condição de convergência dos métodos.\n",
    "\n"
   ]
  },
  {
   "cell_type": "code",
   "execution_count": null,
   "metadata": {},
   "outputs": [],
   "source": [
    "#antes de testar para cada uma das matrizes\n",
    "#funçao pra verificar se a matriz pode ser resolvida \n",
    "\n",
    "# Jacobi escalar\n",
    "def TestarFazerJacobiE(M, b):\n",
    "    x = 0\n",
    "    if(podeJacobi(M) == True):\n",
    "        print(\"Pode:\")\n",
    "        x = jacobiE(M, b)\n",
    "        return x\n",
    "    else:\n",
    "        print(\"Não. Ele falhou em uma das condições de convergência \")\n",
    "        print(\"Falhou na condiçao suficiente da diagonal dominante?\", verificaDominante(M))\n",
    "        print(\"Falhou na condiçao necessaria do raio espectral? \", verificaRaioEspectral(M))\n",
    "        \n",
    "        \n",
    "#Jacobi matricial\n",
    "def TestarFazerJacobiM(M, b):\n",
    "    x = 0\n",
    "    if(podeJacobi(M) == True):\n",
    "        print(\"Pode:\")\n",
    "        x = jacobiM(M, b)\n",
    "        return x\n",
    "    else:\n",
    "        print(\"Não. Ele falhou em uma das condições de convergência \")\n",
    "        print(\"Falhou na condiçao suficiente da diagonal dominante?\", verificaDominante(M))\n",
    "        print(\"Falhou na condiçao necessaria do raio espectral? \", verificaRaioEspectral(M))\n",
    "        \n",
    "#Gauss-Seidel escalar\n",
    "def TestarFazerGauss_SeidelE(M, b):\n",
    "    x = 0\n",
    "    if(podeJacobi(M) == True):\n",
    "        print(\"Pode:\")\n",
    "        x = gaussE(M, b)\n",
    "        return x\n",
    "    else:\n",
    "        print(\"Não. Ele falhou em uma das condições de convergência \")\n",
    "        print(\"Falhou na condiçao suficiente da diagonal dominante?\", verificaDominante(M))\n",
    "        print(\"Falhou na condiçao necessaria do raio espectral? \", verificaRaioEspectral(M))\n",
    "\n",
    "#Gauss-Seidel matricial\n",
    "def TestarFazerGauss_SeidelM(M, b):\n",
    "    x = 0\n",
    "    if(podeJacobi(M) == True):\n",
    "        print(\"Pode:\")\n",
    "        x = gaussM(M, b)\n",
    "        return x\n",
    "    else:\n",
    "        print(\"Não. Ele falhou em uma das condições de convergência \")\n",
    "        print(\"Falhou na condiçao suficiente da diagonal dominante?\", verificaDominante(M))\n",
    "        print(\"Falhou na condiçao necessaria do raio espectral? \", verificaRaioEspectral(M))\n"
   ]
  },
  {
   "cell_type": "markdown",
   "metadata": {
    "colab_type": "text",
    "id": "biSgUpOVKE8i"
   },
   "source": [
    "#### Para a matriz M1: #### "
   ]
  },
  {
   "cell_type": "code",
   "execution_count": null,
   "metadata": {
    "colab": {},
    "colab_type": "code",
    "id": "suDrwhalKE8j"
   },
   "outputs": [],
   "source": [
    "M1 = np.array([[1,-3,5,6], \n",
    "               [-8,4,-1,0],\n",
    "               [3,2,-2,7],\n",
    "               [1,2,5,-4]])\n",
    "b1 = np.array([17,29,-11,7])\n",
    "\n",
    "\n",
    "print(\"Metodo de Jacobi pela forma escalar:\\n\")\n",
    "\n",
    "print(\"A matriz pode resolvida?\\n\")\n",
    "TestarFazerJacobiE(M1, b1)"
   ]
  },
  {
   "cell_type": "code",
   "execution_count": null,
   "metadata": {
    "colab": {},
    "colab_type": "code",
    "id": "_LOneVtfKE8l"
   },
   "outputs": [],
   "source": [
    "M1 = np.array([[1,-3,5,6], \n",
    "               [-8,4,-1,0],\n",
    "               [3,2,-2,7],\n",
    "               [1,2,5,-4]])\n",
    "b1 = np.array([17,29,-11,7])\n",
    "print(\"Metodo de Jacobi pela forma matricial:\\n\")\n",
    "\n",
    "print(\"A matriz pode resolvida?\\n\")\n",
    "TestarFazerJacobiM(M1, b1)"
   ]
  },
  {
   "cell_type": "code",
   "execution_count": null,
   "metadata": {
    "colab": {},
    "colab_type": "code",
    "id": "Gt0jDqAhKE8n"
   },
   "outputs": [],
   "source": [
    "M1 = np.array([[1,-3,5,6], \n",
    "               [-8,4,-1,0],\n",
    "               [3,2,-2,7],\n",
    "               [1,2,5,-4]])\n",
    "b1 = np.array([17,29,-11,7])\n",
    "\n",
    "print(\"Metodo de Gauss-Seidel pela forma escalar:\\n\")\n",
    "\n",
    "TestarFazerGauss_SeidelE(M1, b1)"
   ]
  },
  {
   "cell_type": "code",
   "execution_count": null,
   "metadata": {
    "colab": {},
    "colab_type": "code",
    "id": "llyWgwIZKE8p"
   },
   "outputs": [],
   "source": [
    "M1 = np.array([[1,-3,5,6], \n",
    "               [-8,4,-1,0],\n",
    "               [3,2,-2,7],\n",
    "               [1,2,5,-4]])\n",
    "b1 = np.array([17,29,-11,7])\n",
    "print(\"Metodo de Gauss-Seidel pela forma matricial:\\n\")\n",
    "\n",
    "TestarFazerGauss_SeidelM(M1, b1)"
   ]
  },
  {
   "cell_type": "markdown",
   "metadata": {
    "colab_type": "text",
    "id": "_a2WuSAgKE8t"
   },
   "source": [
    "#### Para a matriz M2: ####"
   ]
  },
  {
   "cell_type": "code",
   "execution_count": null,
   "metadata": {
    "colab": {},
    "colab_type": "code",
    "id": "FxAB0SMhKE8u"
   },
   "outputs": [],
   "source": [
    "M2 = np.array([[-2,3,1,5],\n",
    "               [5,1,-1,0],\n",
    "               [1,6,3,-1],\n",
    "               [4,5,2,8]])\n",
    "b2 = np.array([2,-1,0,6])\n",
    "\n",
    "print(\"Metodo de Jacobi pela forma escalar:\\n\")\n",
    "\n",
    "print(\"A matriz pode resolvida?\\n\")\n",
    "TestarFazerJacobiE(M2, b2)"
   ]
  },
  {
   "cell_type": "code",
   "execution_count": null,
   "metadata": {
    "colab": {},
    "colab_type": "code",
    "id": "6A0qiXZKKE8x"
   },
   "outputs": [],
   "source": [
    "M2 = np.array([[-2,3,1,5],\n",
    "               [5,1,-1,0],\n",
    "               [1,6,3,-1],\n",
    "               [4,5,2,8]])\n",
    "b2 = np.array([2,-1,0,6])\n",
    "\n",
    "print(\"Metodo de Jacobi pela forma matricial:\\n\")\n",
    "print(\"A matriz pode resolvida?\\n\")\n",
    "TestarFazerJacobiM(M2, b2)"
   ]
  },
  {
   "cell_type": "code",
   "execution_count": null,
   "metadata": {
    "colab": {},
    "colab_type": "code",
    "id": "95KdQRrfKE8z"
   },
   "outputs": [],
   "source": [
    "M2 = np.array([[-2,3,1,5],\n",
    "               [5,1,-1,0],\n",
    "               [1,6,3,-1],\n",
    "               [4,5,2,8]])\n",
    "b2 = np.array([2,-1,0,6])\n",
    "print(\"Metodo de Gauss-Seidel pela forma escalar:\")\n",
    "\n",
    "TestarFazerGauss_SeidelE(M2, b2)"
   ]
  },
  {
   "cell_type": "code",
   "execution_count": null,
   "metadata": {
    "colab": {},
    "colab_type": "code",
    "id": "YxO_T4EQKE81"
   },
   "outputs": [],
   "source": [
    "M2 = np.array([[-2,3,1,5],\n",
    "               [5,1,-1,0],\n",
    "               [1,6,3,-1],\n",
    "               [4,5,2,8]])\n",
    "b2 = np.array([2,-1,0,6])\n",
    "print(\"Metodo de Gauss-Seidel pela forma matricial:\")\n",
    "print(\"A matriz pode resolvida?\\n\")\n",
    "TestarFazerGauss_SeidelM(M2, b2)"
   ]
  },
  {
   "cell_type": "markdown",
   "metadata": {
    "colab_type": "text",
    "id": "ju6OTFuhKE83"
   },
   "source": [
    "#### Para a matriz M3: ####"
   ]
  },
  {
   "cell_type": "code",
   "execution_count": null,
   "metadata": {
    "colab": {},
    "colab_type": "code",
    "id": "5GJc9kl4KE84"
   },
   "outputs": [],
   "source": [
    "M3 = np.array([[9,-6,3],\n",
    "               [-6,29,-7],\n",
    "               [3,-7,18]])\n",
    "b3 = np.array([-3,-8,33])\n",
    "\n",
    "print(\"Metodo de Jacobi pela forma escalar:\\n\")\n",
    "\n",
    "print(\"A matriz pode resolvida?\\n\")\n",
    "TestarFazerJacobiE(M3, b3)"
   ]
  },
  {
   "cell_type": "code",
   "execution_count": null,
   "metadata": {
    "colab": {},
    "colab_type": "code",
    "id": "-4LpKGK9KE85"
   },
   "outputs": [],
   "source": [
    "M3 = np.array([[9,-6,3],\n",
    "               [-6,29,-7],\n",
    "               [3,-7,18]])\n",
    "b3 = np.array([-3,-8,33])\n",
    "print(\"Metodo de Jacobi pela forma matrical:\")\n",
    "TestarFazerJacobiM(M3, b3)"
   ]
  },
  {
   "cell_type": "code",
   "execution_count": null,
   "metadata": {
    "colab": {},
    "colab_type": "code",
    "id": "6zInSLf7KE87"
   },
   "outputs": [],
   "source": [
    "M3 = np.array([[9,-6,3],\n",
    "               [-6,29,-7],\n",
    "               [3,-7,18]])\n",
    "b3 = np.array([-3,-8,33])\n",
    "print(\"Metodo de Gauss-Seidel pela forma escalar:\")\n",
    "TestarFazerGauss_SeidelE(M3, b3)"
   ]
  },
  {
   "cell_type": "code",
   "execution_count": null,
   "metadata": {
    "colab": {},
    "colab_type": "code",
    "id": "mfXwykcWKE89"
   },
   "outputs": [],
   "source": [
    "M3 = np.array([[9,-6,3],\n",
    "               [-6,29,-7],\n",
    "               [3,-7,18]])\n",
    "b3 = np.array([-3,-8,33])\n",
    "print(\"Metodo de Gauss-Seidel pela forma Matricial:\")\n",
    "TestarFazerGauss_SeidelM(M3, b3)"
   ]
  },
  {
   "cell_type": "markdown",
   "metadata": {
    "colab_type": "text",
    "id": "BxE_tWcwKE9B"
   },
   "source": [
    "#### Para a matriz M4: ####"
   ]
  },
  {
   "cell_type": "code",
   "execution_count": null,
   "metadata": {
    "colab": {},
    "colab_type": "code",
    "id": "9hdxca7vKE9C"
   },
   "outputs": [],
   "source": [
    "M4 = np.array([[4,-2,4,10],\n",
    "               [-2,2,-1,-7],\n",
    "               [4,-1,14,11],\n",
    "               [10,-7,11,31]])\n",
    "b4 = np.array([2,2,-1,-2])\n",
    "\n",
    "print(\"Metodo de Jacobi pela forma escalar:\\n\")\n",
    "\n",
    "print(\"A matriz pode resolvida?\\n\")\n",
    "TestarFazerJacobiE(M4, b4)\n"
   ]
  },
  {
   "cell_type": "code",
   "execution_count": null,
   "metadata": {
    "colab": {},
    "colab_type": "code",
    "id": "Qo3FFCeOKE9F"
   },
   "outputs": [],
   "source": [
    "M4 = np.array([[4,-2,4,10],\n",
    "               [-2,2,-1,-7],\n",
    "               [4,-1,14,11],\n",
    "               [10,-7,11,31]])\n",
    "b4 = np.array([2,2,-1,-2])\n",
    "\n",
    "print(\"Metodo de Jacobi pela forma matrical:\")\n",
    "print(\"A matriz pode resolvida?\\n\")\n",
    "TestarFazerJacobiM(M1, b1)"
   ]
  },
  {
   "cell_type": "code",
   "execution_count": null,
   "metadata": {
    "colab": {},
    "colab_type": "code",
    "id": "A5Xy95Q7KE9H"
   },
   "outputs": [],
   "source": [
    "M4 = np.array([[4,-2,4,10],\n",
    "               [-2,2,-1,-7],\n",
    "               [4,-1,14,11],\n",
    "               [10,-7,11,31]])\n",
    "b4 = np.array([2,2,-1,-2])\n",
    "\n",
    "\n",
    "print(\"Metodo de Gauss-Seidel pela forma escalar:\")\n",
    "print(\"A matriz pode resolvida?\\n\")\n",
    "TestarFazerGauss_SeidelE(M4, b4)"
   ]
  },
  {
   "cell_type": "code",
   "execution_count": null,
   "metadata": {
    "colab": {},
    "colab_type": "code",
    "id": "8fnEfS7TKE9K"
   },
   "outputs": [],
   "source": [
    "M4 = np.array([[4,-2,4,10],\n",
    "               [-2,2,-1,-7],\n",
    "               [4,-1,14,11],\n",
    "               [10,-7,11,31]])\n",
    "b4 = np.array([2,2,-1,-2])\n",
    "\n",
    "print(\"Metodo de Gauss-Seidel pela forma Matricial:\")\n",
    "print(\"A matriz pode resolvida?\\n\")\n",
    "TestarFazerGauss_SeidelM(M4, b4)"
   ]
  },
  {
   "cell_type": "markdown",
   "metadata": {
    "colab_type": "text",
    "id": "NdtnQb4MKE9M"
   },
   "source": [
    "#### Para a matriz M5: ####"
   ]
  },
  {
   "cell_type": "code",
   "execution_count": null,
   "metadata": {
    "colab": {},
    "colab_type": "code",
    "id": "-kGfjFUNKE9M"
   },
   "outputs": [],
   "source": [
    "\n",
    "M5 = np.array([[16,-4,4,12],\n",
    "               [-4,2,-1,-7],\n",
    "               [4,-1,26,13],\n",
    "               [12,-7,13,25]])\n",
    "b5 = np.array([2,2,-1,-2])\n",
    "\n",
    "\n",
    "print(\"Metodo de Jacobi pela forma escalar:\\n\")\n",
    "\n",
    "print(\"A matriz pode resolvida?\\n\")\n",
    "TestarFazerJacobiE(M5, b5)"
   ]
  },
  {
   "cell_type": "code",
   "execution_count": null,
   "metadata": {
    "colab": {},
    "colab_type": "code",
    "id": "8rGvEdObKE9O"
   },
   "outputs": [],
   "source": [
    "M5 = np.array([[16,-4,4,12],\n",
    "               [-4,2,-1,-7],\n",
    "               [4,-1,26,13],\n",
    "               [12,-7,13,25]])\n",
    "b5 = np.array([2,2,-1,-2])\n",
    "\n",
    "print(\"Metodo de Jacobi pela forma matrical:\")\n",
    "print(\"A matriz pode resolvida?\\n\")\n",
    "TestarFazerJacobiM(M5, b5)"
   ]
  },
  {
   "cell_type": "code",
   "execution_count": null,
   "metadata": {
    "colab": {},
    "colab_type": "code",
    "id": "isx1VSGVKE9Q"
   },
   "outputs": [],
   "source": [
    "\n",
    "M5 = np.array([[16,-4,4,12],\n",
    "               [-4,2,-1,-7],\n",
    "               [4,-1,26,13],\n",
    "               [12,-7,13,25]])\n",
    "b5 = np.array([2,2,-1,-2])\n",
    "print(\"Metodo de Gauss-Seidel pela forma escalar:\")\n",
    "print(\"A matriz pode resolvida?\\n\")\n",
    "TestarFazerGauss_SeidelE(M5, b5)"
   ]
  },
  {
   "cell_type": "code",
   "execution_count": null,
   "metadata": {
    "colab": {},
    "colab_type": "code",
    "id": "L0rv8ES5KE9T"
   },
   "outputs": [],
   "source": [
    "\n",
    "M5 = np.array([[16,-4,4,12],\n",
    "               [-4,2,-1,-7],\n",
    "               [4,-1,26,13],\n",
    "               [12,-7,13,25]])\n",
    "b5 = np.array([2,2,-1,-2])\n",
    "\n",
    "\n",
    "print(\"Metodo de Gauss-Seidel pela forma Matricial:\")\n",
    "print(\"A matriz pode resolvida?\\n\")\n",
    "TestarFazerGauss_SeidelM(M5, b5)"
   ]
  },
  {
   "cell_type": "markdown",
   "metadata": {
    "colab_type": "text",
    "id": "KJ1h3WAzKE9V"
   },
   "source": [
    "2 - Use todos os métodos (Gauss, LU com pivotação, Choleski, Jacobi e Gauss-Seidel) e marquem o tempo com `%timeit -n1` para o seguinte sistema:"
   ]
  },
  {
   "cell_type": "code",
   "execution_count": null,
   "metadata": {
    "colab": {},
    "colab_type": "code",
    "id": "9_A1PGm1KE9V"
   },
   "outputs": [],
   "source": [
    "MF = np.random.randint(1,20,(10000,10000))\n",
    "bF = np.random.randint(-1000,1000,10000)\n",
    "print(MF)"
   ]
  },
  {
   "cell_type": "code",
   "execution_count": null,
   "metadata": {
    "colab": {},
    "colab_type": "code",
    "id": "pfA7wdi0KE9Y"
   },
   "outputs": [],
   "source": [
    "#Alguns metodos nao irao funcionar, pois nao vao atender as condiçoes pra convergencia\n",
    "# Exemplo disso eh os metodos iterativos Jacobi e Gauss-Seidel, pois a diagonal da matriz provalvelmente nao vai ser dominante\n",
    "# e o raio espectral possivelmente nao seja < 1\n",
    "eliminacaoGaussianaSimples(MF,bF)\n",
    "print(\"Tempo da eliminaçãoGaussiana:\", eliminacaoGaussianaSimples(MF,bF))\n",
    "%timeit -n1 eliminacaoGaussianaSimples(MF,bF)"
   ]
  },
  {
   "cell_type": "code",
   "execution_count": null,
   "metadata": {
    "colab": {},
    "colab_type": "code",
    "id": "ONalK58JKE9c"
   },
   "outputs": [],
   "source": [
    "print(\"Decomposição LU:\")\n",
    "print(\"Função de decomposição:\")\n",
    "%timeit -n1 decompoeLU(MF)\n",
    "L, U = decompoeLU(MF)\n",
    "print(\"Função Resolve:\", resolveLU(L,U,bf))\n",
    "%timeit -n1 resolveLU(L,U,bf)"
   ]
  },
  {
   "cell_type": "code",
   "execution_count": null,
   "metadata": {
    "colab": {},
    "colab_type": "code",
    "id": "ss_fZAbIKE9f"
   },
   "outputs": [],
   "source": [
    "print(\"LU com pivotação parcial:\")\n",
    "%timeit -n1 LUparcial(MF)\n",
    "L, U, P = LUparcial(MF)\n",
    "print(\"Resolve LU parcial:\", resolveLUpar(L,U,P,bf))\n",
    "%timeit -n1 resolveLUpar(L,U,P,bf)"
   ]
  },
  {
   "cell_type": "code",
   "execution_count": null,
   "metadata": {
    "colab": {},
    "colab_type": "code",
    "id": "D-J5ajhHKE9h"
   },
   "outputs": [],
   "source": [
    "print(\"Cholesky:\")\n",
    "print(\"Verifica se o sistema pode ser resolvido, senao for retorna -1:\", resolveCholesky(MF,bf))\n",
    "%timeit -n1 resolveCholesky(MF,bf)"
   ]
  },
  {
   "cell_type": "code",
   "execution_count": 5,
   "metadata": {
    "colab": {},
    "colab_type": "code",
    "id": "9KFsXhKpKE9i"
   },
   "outputs": [
    {
     "name": "stdout",
     "output_type": "stream",
     "text": [
      "Metodo de Jacobi e Gauss-Seidel pela forma escalar e matricial:\n",
      "\n",
      "A matriz pode resolvida?\n",
      "\n",
      "Não. Ele falhou em uma das condições de convergência.\n"
     ]
    }
   ],
   "source": [
    "print(\"Metodo de Jacobi e Gauss-Seidel pela forma escalar e matricial:\\n\")\n",
    "\n",
    "print(\"A matriz pode resolvida?\\n\")\n",
    "print(\"Não. Ele falhou em uma das condições de convergência.\")\n",
    "\n",
    "# e o raio espectral possivelmente nao seja < 1\n",
    "#%timeit -n1 TestarFazerJacobiE(MF, bF)\n",
    "#%timeit -n1 TestarFazerJacobiM(MF, bF)\n",
    "#%timeit -n1 TestarFazerGauss_SeidelE(MF, bF)\n",
    "#%timeit -n1 TestarFazerGauss_SeidelM(MF, bF)"
   ]
  },
  {
   "cell_type": "code",
   "execution_count": null,
   "metadata": {},
   "outputs": [],
   "source": []
  }
 ],
 "metadata": {
  "colab": {
   "name": "O oficial - Aula 13 - Laboratório de Sistemas Lineares iterativos(versao brendaum).ipynb",
   "provenance": [],
   "version": "0.3.2"
  },
  "kernelspec": {
   "display_name": "Python 3",
   "language": "python",
   "name": "python3"
  },
  "language_info": {
   "codemirror_mode": {
    "name": "ipython",
    "version": 3
   },
   "file_extension": ".py",
   "mimetype": "text/x-python",
   "name": "python",
   "nbconvert_exporter": "python",
   "pygments_lexer": "ipython3",
   "version": "3.7.3"
  }
 },
 "nbformat": 4,
 "nbformat_minor": 1
}
