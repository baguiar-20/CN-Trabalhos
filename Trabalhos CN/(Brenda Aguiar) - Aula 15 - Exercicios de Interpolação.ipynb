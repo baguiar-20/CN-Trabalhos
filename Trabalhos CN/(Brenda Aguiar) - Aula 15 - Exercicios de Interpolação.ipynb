{
 "cells": [
  {
   "cell_type": "markdown",
   "metadata": {
    "colab_type": "text",
    "id": "JVXl_J-b0D-9"
   },
   "source": [
    "# Exercicios de Interpolação"
   ]
  },
  {
   "cell_type": "code",
   "execution_count": 24,
   "metadata": {
    "colab": {},
    "colab_type": "code",
    "id": "TUB_EVZE0D_D"
   },
   "outputs": [],
   "source": [
    "def resolvePoli(c,x):\n",
    "    y = 0;\n",
    "    for i in range(len(c)):\n",
    "        y+=(c[i])*(x**i)\n",
    "    return y\n",
    "\n",
    "\n",
    "def resolveTS(A,b): #A Triangular Superior\n",
    "    x= np.zeros(len(A))\n",
    "    for i in range(len(A)-1, -1,-1):\n",
    "        x[i]=(b[i]-(A[i,i+1:]*x[i+1:]).sum())/A[i,i]\n",
    "    return x\n",
    "\n",
    "\n",
    "def resolveTI(A,b): #A Triangular Inferior\n",
    "    m = len(A)\n",
    "    n = len(A[0])\n",
    "    k=0\n",
    "    x = np.zeros(n)\n",
    "    for i in range(0,m):\n",
    "        k=0\n",
    "        for j in range(0,n-1):\n",
    "            k = A[i][j]* x[j]\n",
    "        x[i] = (b[i]-k)/A[i][i]\n",
    "    return x\n",
    "\n",
    "\n",
    "def LUparcial(A):\n",
    "    P = np.eye(len(A))\n",
    "    L = np.eye(len(A))\n",
    "    i = 0\n",
    "    for i in range(0,len(A)-1):\n",
    "        im = np.argmax(abs(A[i:,i])) + i\n",
    "        pivo = A[im][i]\n",
    "        for j in range(i,len(A)):        \n",
    "            m = A[j][i] / pivo\n",
    "            if j != im: \n",
    "                A[j] = A[j] - A[im] * m\n",
    "                if j < im: \n",
    "                    L[j+1][i] = m\n",
    "                else: \n",
    "                    L[j][i] = m\n",
    "    \n",
    "        A[[i,im]]=A[[im,i]]\n",
    "        P[[i,im]]=P[[im,i]]\n",
    "    U = A\n",
    "    return L, U, P\n",
    "\n",
    "def resolveLUpar(L,U,P,b): \n",
    "    t = resolveTI(L,np.dot(P,b))\n",
    "    x = resolveTS(U, t)\n",
    "    return x\n",
    "  \n",
    "  \n",
    "  \n",
    "def eliminacaoGaussianaSimples(A,b):\n",
    "    pivot = 0\n",
    "    m = 0.0\n",
    "    x = np.zeros(len(A))\n",
    "    for i in range(0,len(A)-1):\n",
    "        pivot = A[i,i]\n",
    "        for j in range(i+1,len(A)):\n",
    "            if (pivot == 0):\n",
    "                m = 0\n",
    "            else:\n",
    "                m = A[j,i]/pivot\n",
    "            A[j] =  A[j] - (m*A[i])\n",
    "            b[j] = b[j] - (m*b[i])       \n",
    "    x = resolveTS(A,b)\n",
    "    return x\n",
    "\n",
    "\n"
   ]
  },
  {
   "cell_type": "code",
   "execution_count": 115,
   "metadata": {},
   "outputs": [],
   "source": [
    "def escolheIntervalo(x,y,xalvo,n):\n",
    "    dif = [abs (v-xalvo) for v in x]\n",
    "    a = b = np.argmin([abs (v-xalvo) for v in x])\n",
    "    while (b-a < n):\n",
    "        if(a==0):\n",
    "            b += 1\n",
    "        elif(b == len(x)-1):\n",
    "            a -= 1\n",
    "        elif (dif[b+1]< dif[a-1]):\n",
    "            b += 1\n",
    "        else:\n",
    "            a -= 1\n",
    "    return x[a:b], y[a:b]"
   ]
  },
  {
   "cell_type": "code",
   "execution_count": 116,
   "metadata": {
    "colab": {},
    "colab_type": "code",
    "id": "Sg548OwI0D_Y"
   },
   "outputs": [],
   "source": [
    "def interpoli(x,y):\n",
    "    m = np.eye(len(x))\n",
    "    t = len(x)-1\n",
    "    for i in range(len(x)-1, -1,-1):\n",
    "        m [:,i] = x**t\n",
    "        t-= 1\n",
    "    L, U, P = LUparcial(m)\n",
    "    #print(U)\n",
    "    return resolveLUpar(L,U,P,y)"
   ]
  },
  {
   "cell_type": "code",
   "execution_count": 117,
   "metadata": {
    "colab": {},
    "colab_type": "code",
    "id": "aj8iNNzd0D_h"
   },
   "outputs": [],
   "source": [
    "def lagranged(x,y,xalvo):\n",
    "    c = d = 1\n",
    "    yalvo = 0\n",
    "    for i in range(len(x)):\n",
    "        for j in range(len(x)):\n",
    "            if (i!=j):\n",
    "                c = c *(xalvo-x[j])\n",
    "                d = d *(x[i]-x[j])\n",
    "        yalvo += y[i]* (c/d)\n",
    "    return yalvo\n",
    "\n",
    "\n",
    "\n",
    "def lagrange(x,y,xalvo):\n",
    "    yalvo = 0\n",
    "    for i in range(len(x)):\n",
    "        for j in range(len(x)):\n",
    "            if (i!=j):\n",
    "                yalvo += (y[i]*((xalvo-x[j])/(x[i]-x[j])))\n",
    "    return yalvo"
   ]
  },
  {
   "cell_type": "code",
   "execution_count": 179,
   "metadata": {},
   "outputs": [],
   "source": [
    "def difdiv(x,y):\n",
    "    d = np.zeros(len(x))\n",
    "    t = 0\n",
    "    dd = np.eye(len(x))\n",
    "    while(t < len(y)):\n",
    "        d[t] = y[t]\n",
    "        t+=1\n",
    "    for i in range(len(x)-1):\n",
    "        for j in range(len(x)-1, -1, -1):\n",
    "            dd[i,j] = (d[i]-d[i-1])/((x[j] -x[j-i]))\n",
    "    return dd\n",
    "\n",
    "def poliNewton(x,y,d,xalvo):\n",
    "    m = len(x)\n",
    "    r = d[m]\n",
    "    for i in range(1,len(x)):\n",
    "        r = r * (xalvo-x[i] + dd[i])\n",
    "    return y"
   ]
  },
  {
   "cell_type": "markdown",
   "metadata": {
    "colab_type": "text",
    "id": "I4PQLFIa0D_p"
   },
   "source": [
    "### Exercicio 1 ###\n",
    "\n",
    "Nos dados abaixo está o número de habitantes de manaus entre 1950 e 2000, como em sala de aula\n",
    "\n",
    "Compute:\n",
    "    - Com 3 pontos o número de habitantes de Manaus em 1958 e 1988.\n",
    "    - Com 4 pontos o número de habitantes em 1958 e 1988.\n",
    "    \n",
    "Qual foi a diferença entre os dois resultados?"
   ]
  },
  {
   "cell_type": "code",
   "execution_count": 181,
   "metadata": {
    "colab": {},
    "colab_type": "code",
    "id": "5QkUZVDb0D_t"
   },
   "outputs": [],
   "source": [
    "import numpy as np\n",
    "\n",
    "ano = np.array([1950,1960,1970,1980,1991,2000])\n",
    "\n",
    "populacao = np.array([139620,173706,311622,633392,1011500,1403796])"
   ]
  },
  {
   "cell_type": "code",
   "execution_count": 183,
   "metadata": {
    "colab": {},
    "colab_type": "code",
    "id": "W7Ac4nsL0D_y",
    "outputId": "8d57f71a-5fed-4d28-85af-08aa7fb951a9"
   },
   "outputs": [
    {
     "data": {
      "text/plain": [
       "1295441.4"
      ]
     },
     "execution_count": 183,
     "metadata": {},
     "output_type": "execute_result"
    }
   ],
   "source": [
    "ano1, pol1 = escolheIntervalo(ano,populacao,1958,3)\n",
    "\n",
    "lagrange(ano1,pol1,1958)"
   ]
  },
  {
   "cell_type": "code",
   "execution_count": 184,
   "metadata": {
    "colab": {},
    "colab_type": "code",
    "id": "wjVD7JVL0D_9",
    "outputId": "b70333c7-84a7-4b8c-eddd-a79bc47b02d2"
   },
   "outputs": [
    {
     "data": {
      "text/plain": [
       "5499919.731601732"
      ]
     },
     "execution_count": 184,
     "metadata": {},
     "output_type": "execute_result"
    }
   ],
   "source": [
    "ano1, pol1 = escolheIntervalo(ano,populacao,1988,3)\n",
    "\n",
    "lagrange(ano2,pol2,1988)"
   ]
  },
  {
   "cell_type": "code",
   "execution_count": 186,
   "metadata": {
    "colab": {},
    "colab_type": "code",
    "id": "q8cvePkT0EAI",
    "outputId": "156e4440-f896-4ae9-b9ad-3e927b198ee4"
   },
   "outputs": [
    {
     "data": {
      "text/plain": [
       "1178456.0"
      ]
     },
     "execution_count": 186,
     "metadata": {},
     "output_type": "execute_result"
    }
   ],
   "source": [
    "ano1, pol1 = escolheIntervalo(ano,populacao,1958,4)\n",
    "\n",
    "lagrange(ano3,pol3,1958)"
   ]
  },
  {
   "cell_type": "code",
   "execution_count": 185,
   "metadata": {
    "colab": {},
    "colab_type": "code",
    "id": "r6BD1eN30EAY",
    "outputId": "5ac8f71a-7036-48f6-d53a-0a8c57366700"
   },
   "outputs": [
    {
     "data": {
      "text/plain": [
       "2331340.9999999995"
      ]
     },
     "execution_count": 185,
     "metadata": {},
     "output_type": "execute_result"
    }
   ],
   "source": [
    "ano1, pol1 = escolheIntervalo(ano,populacao,1988,4)\n",
    "\n",
    "lagrange(ano3,pol3,1988)"
   ]
  },
  {
   "cell_type": "markdown",
   "metadata": {
    "colab_type": "text",
    "collapsed": true,
    "id": "9EsGJb-b0EAk"
   },
   "source": [
    "### Exercicio 2\n",
    "\n",
    "Dada a função $f(x)=10x^{4}+2x+1$, determine a interpolação de dois pontos $P_2(0.15)$ e $P_2(0.25)$ usando para interpolar os pontos f(0,1), f(0,2) e f(0.3).\n",
    "\n",
    "- Pelo método de interpolação polinomial\n",
    "- Pelo Polinômio de Lagrange\n"
   ]
  },
  {
   "cell_type": "markdown",
   "metadata": {
    "colab_type": "text",
    "id": "7nJ_unxU0EAr"
   },
   "source": [
    "Qual o erro absoluto e relativo de cada método? Quanto tempo cada um leva para calcular os dois pontos?"
   ]
  },
  {
   "cell_type": "code",
   "execution_count": 141,
   "metadata": {
    "colab": {},
    "colab_type": "code",
    "id": "FbfphBJg0EAn"
   },
   "outputs": [],
   "source": [
    "def f0(x):\n",
    "    return 10*(x**4)+2*x +1"
   ]
  },
  {
   "cell_type": "code",
   "execution_count": 142,
   "metadata": {
    "colab": {},
    "colab_type": "code",
    "id": "nuwOEV0B0jJf"
   },
   "outputs": [
    {
     "name": "stdout",
     "output_type": "stream",
     "text": [
      "Tempo do Interpolacao:\n",
      "883 µs ± 376 µs per loop (mean ± std. dev. of 7 runs, 1 loop each)\n",
      "\n",
      "\n",
      "Tempo do ResolvePoli:\n",
      "The slowest run took 5.60 times longer than the fastest. This could mean that an intermediate result is being cached.\n",
      "15.6 µs ± 15 µs per loop (mean ± std. dev. of 7 runs, 1 loop each)\n",
      "\n",
      "\n",
      "2.0528749999999993\n"
     ]
    }
   ],
   "source": [
    "x = np.array([0.1,0.2,0.3])\n",
    "y = np.array([f0(0.1),f0(0.2),f0(0.3)])\n",
    "\n",
    "\n",
    "print(\"Tempo do Interpolacao:\")\n",
    "%timeit -n1 interpoli(x,y)\n",
    "coef = interpoli(x,y)\n",
    "print(\"\\n\")\n",
    "\n",
    "print(\"Tempo do ResolvePoli:\")\n",
    "%timeit -n1 resolvePoli(coef,0.15)\n",
    "p1 = resolvePoli(coef,0.15)\n",
    "\n",
    "print(\"\\n\")\n",
    "print(p1)"
   ]
  },
  {
   "cell_type": "code",
   "execution_count": 143,
   "metadata": {},
   "outputs": [
    {
     "name": "stdout",
     "output_type": "stream",
     "text": [
      "Tempo do Interpolacao:\n",
      "1.21 ms ± 287 µs per loop (mean ± std. dev. of 7 runs, 1 loop each)\n",
      "\n",
      "\n",
      "Tempo do ResolvePoli:\n",
      "13 µs ± 8.46 µs per loop (mean ± std. dev. of 7 runs, 1 loop each)\n",
      "\n",
      "\n",
      "2.893375\n"
     ]
    }
   ],
   "source": [
    "x = np.array([0.1,0.2,0.3])\n",
    "y = np.array([f0(0.1),f0(0.2),f0(0.3)])\n",
    "\n",
    "\n",
    "print(\"Tempo do Interpolacao:\")\n",
    "%timeit -n1 interpoli(x,y)\n",
    "coef = interpoli(x,y)\n",
    "\n",
    "print(\"\\n\")\n",
    "\n",
    "print(\"Tempo do ResolvePoli:\")\n",
    "%timeit -n1 resolvePoli(coef,0.25)\n",
    "\n",
    "p2 = resolvePoli(coef,0.25)\n",
    "print(\"\\n\")\n",
    "print(p2)"
   ]
  },
  {
   "cell_type": "code",
   "execution_count": 144,
   "metadata": {},
   "outputs": [
    {
     "name": "stdout",
     "output_type": "stream",
     "text": [
      "Tempo do lagrange:\n",
      "24.6 µs ± 7.55 µs per loop (mean ± std. dev. of 7 runs, 1 loop each)\n",
      "3.9129999999999994\n"
     ]
    }
   ],
   "source": [
    "x = np.array([0.1,0.2,0.3])\n",
    "y = np.array([f0(0.1),f0(0.2),f0(0.3)])\n",
    "\n",
    "\n",
    "print(\"Tempo do lagrange:\")\n",
    "%timeit -n1 lagrange(x,y,0.15)\n",
    "l1 = lagrange(x,y,0.15)\n",
    "print(l1)"
   ]
  },
  {
   "cell_type": "code",
   "execution_count": 145,
   "metadata": {},
   "outputs": [
    {
     "name": "stdout",
     "output_type": "stream",
     "text": [
      "Tempo do lagrange:\n",
      "26.3 µs ± 9.11 µs per loop (mean ± std. dev. of 7 runs, 1 loop each)\n",
      "4.632999999999999\n"
     ]
    }
   ],
   "source": [
    "x = np.array([0.1,0.2,0.3])\n",
    "y = np.array([f0(0.1),f0(0.2),f0(0.3)])\n",
    "\n",
    "\n",
    "print(\"Tempo do lagrange:\")\n",
    "%timeit -n1 lagrange(x,y,0.25)\n",
    "l2 = lagrange(x,y,0.25)\n",
    "print(l2)"
   ]
  },
  {
   "cell_type": "code",
   "execution_count": 146,
   "metadata": {
    "colab": {},
    "colab_type": "code",
    "id": "IWl5AdUU0EAs"
   },
   "outputs": [
    {
     "name": "stdout",
     "output_type": "stream",
     "text": [
      "Erro Relativo e Absoluto da Interpoacao Polinomial, do ponto 0.15, respectivamente:\n",
      "(-5.558624999999998, -270.7726968276198) (-11.138999999999998, -284.66649629440326)\n",
      "\n",
      "\n",
      "Erro Relativo e Absoluto da Interpoacao Polinomial, do ponto 0.25, respectivamente:\n",
      "(-8.080124999999999, -279.2629714433836) (-13.298999999999996, -287.049428016404)\n",
      "\n",
      "\n"
     ]
    }
   ],
   "source": [
    "def erro(x,p):\n",
    "    ea = 0\n",
    "    er = 0\n",
    "    cont = 0\n",
    "    for i in range(len(x)):\n",
    "        ea += x[i]-p\n",
    "        cont += 1\n",
    "    er = (ea/p)*100\n",
    "    return ea, er\n",
    "\n",
    "\n",
    "print(\"Erro Relativo e Absoluto da Interpoacao Polinomial, do ponto 0.15, respectivamente:\")\n",
    "p = erro(x,p1)\n",
    "l = erro(x,l1)\n",
    "print(p,l)\n",
    "print(\"\\n\")\n",
    "\n",
    "\n",
    "print(\"Erro Relativo e Absoluto da Interpoacao Polinomial, do ponto 0.25, respectivamente:\")\n",
    "pp = erro(x,p2)\n",
    "ll = erro(x,l2)\n",
    "print(pp,ll)\n",
    "print(\"\\n\")\n"
   ]
  },
  {
   "cell_type": "code",
   "execution_count": 129,
   "metadata": {},
   "outputs": [
    {
     "name": "stdout",
     "output_type": "stream",
     "text": [
      "Erro Relativo e Absoluto da Polinomio de Lagrange, respectivamente:\n"
     ]
    },
    {
     "data": {
      "text/plain": [
       "(-2.243125, -44.14695149452622)"
      ]
     },
     "execution_count": 129,
     "metadata": {},
     "output_type": "execute_result"
    }
   ],
   "source": [
    "print(\"Erro Relativo e Absoluto da Polinomio de Lagrange, respectivamente:\")\n",
    "erro(x,L)"
   ]
  },
  {
   "cell_type": "markdown",
   "metadata": {
    "colab_type": "text",
    "id": "AfNC0-ud0EAx"
   },
   "source": [
    "### Exercicio 3\n",
    "\n",
    "Dada a função $f(x)=sen(x)+2x+1$, determine $L_2(0,15)$ e $L_3(0,15)$ usando os valores $f(0,1),f(0,2),f(0,3)$ e $f(0,4)$, usando o polinomio de lagrange.\n",
    "\n",
    "Plote a função no intervalo [0,0.5] e os pontos computados"
   ]
  },
  {
   "cell_type": "code",
   "execution_count": 130,
   "metadata": {
    "colab": {},
    "colab_type": "code",
    "id": "fbyMWVJS0EAy"
   },
   "outputs": [],
   "source": [
    "def f1(x):\n",
    "    return np.sin(x) + 2*x + 1"
   ]
  },
  {
   "cell_type": "code",
   "execution_count": 178,
   "metadata": {},
   "outputs": [
    {
     "data": {
      "image/png": "[encoded data removed]",
      "text/plain": [
       "<Figure size 432x288 with 1 Axes>"
      ]
     },
     "metadata": {
      "needs_background": "light"
     },
     "output_type": "display_data"
    }
   ],
   "source": [
    "import numpy as np\n",
    "import matplotlib.pyplot as plt\n",
    "\n",
    "x = np.array([0.1,0.2,0.3,0.4])\n",
    "\n",
    "\n",
    "xe1, ye1 = escolheIntervalo(x,f1(x),0.15,2)\n",
    "xe2, ye2 = escolheIntervalo(x,f1(x),0.15,3)\n",
    "\n",
    "\n",
    "yl1 = lagrange(xe1,ye1,0.15)\n",
    "yl2 = lagrange(xe2,ye2,0.15)\n",
    "\n",
    "\n",
    "plt.xticks(np.linspace(0,0.5,3))\n",
    "plt.yticks(np.linspace(0,3,3))\n",
    "plt.xlim(0,0.5)\n",
    "plt.ylim(0,3)\n",
    "\n",
    "plt.scatter([0.15,], yl1, 100, color ='y')\n",
    "plt.plot([0.15,0.15],[yl2,0], color ='y', linewidth=4, linestyle=\"--\")\n",
    "\n",
    "\n",
    "plt.scatter([0.15,],yl2, 15, color ='black')\n",
    "plt.plot([0.15,0.15],[yl2, 0], color ='black', linewidth=1, linestyle=\"--\")\n",
    "\n",
    "plt.show()"
   ]
  },
  {
   "cell_type": "markdown",
   "metadata": {
    "colab_type": "text",
    "id": "aNjCDqX70EA2"
   },
   "source": [
    "### Exercício 4 ###\n",
    "\n",
    "1 - Na célula abaixo, são dados os números de óbitos em hospitais em Manaus. Como pode ser visto, os dados referentes à 2008 e a 2011 estão faltando. Use a interpolação polinomial com 2,3 e 5 pontos para estimar estes pontos.\n",
    "\n",
    "2 - Plote as curvas dos polinômios gerados (em dois gráficos), de forma similar ao feito no notebook em sala de aula"
   ]
  },
  {
   "cell_type": "code",
   "execution_count": 150,
   "metadata": {
    "colab": {},
    "colab_type": "code",
    "id": "kIfWXeDA0EA3",
    "outputId": "11b17f29-c5cc-4e88-b376-7c1d4fce09e6"
   },
   "outputs": [
    {
     "data": {
      "image/png": "[encoded data removed]",
      "text/plain": [
       "<Figure size 432x288 with 1 Axes>"
      ]
     },
     "metadata": {
      "needs_background": "light"
     },
     "output_type": "display_data"
    }
   ],
   "source": [
    "import numpy as np\n",
    "import matplotlib.pyplot as plt\n",
    "\n",
    "xmorte = np.array([2005,2006,2007,2009,2010,2012,2013,2014])\n",
    "ymorte = np.array([2838,3044,3074,2964,3013,3759,3323,2471])\n",
    "\n",
    "xplot1 = np.linspace(2005,2014,2)\n",
    "xplot2 = np.linspace(2005,2014,3)\n",
    "xplot3 = np.linspace(2005,2014,5)\n",
    "\n",
    "x08_1, y08_1 = escolheIntervalo(xmorte,ymorte,2008,2)\n",
    "x08_2, y08_2 = escolheIntervalo(xmorte,ymorte,2008,3)\n",
    "x08_3, y08_3 = escolheIntervalo(xmorte,ymorte,2008,5)\n",
    "\n",
    "\n",
    "\n",
    "c08_1 = interpoli(x08_1,y08_1)\n",
    "c08_2 = interpoli(x08_2,y08_2)\n",
    "c08_3 = interpoli(x08_3,y08_3)\n",
    "\n",
    "\n",
    "yp08_1 = resolvePoli(c08_1,xplot1)\n",
    "yp08_2 = resolvePoli(c08_2,xplot2)\n",
    "yp08_3 = resolvePoli(c08_3,xplot3)\n",
    "\n",
    "\n",
    "\n",
    "plt.plot(xplot1, y08_1,'g-.')\n",
    "plt.plot(xplot2, y08_2,'y-')\n",
    "plt.plot(xplot3, y08_3,'r--')\n",
    "plt.plot(xmorte,ymorte,'b.',label='Original')\n",
    "plt.ylabel('Numero de Óbitos em Manaus')\n",
    "plt.xlabel('Ano')\n",
    "plt.ylim(1500,4000)\n",
    "plt.xticks([2005,2006,2007,2008,2009,2010,2011,2012,2013,2014])\n",
    "plt.legend(loc='upper left')\n",
    "plt.show()"
   ]
  },
  {
   "cell_type": "markdown",
   "metadata": {
    "colab_type": "text",
    "id": "Tj3jyhPZ0EBC"
   },
   "source": [
    "Faça um gráfico com o tempo de execução das três para diferentes valores de N, para mostrar em que ponto o Polinomial e o Newton são mais vantajosos que o Lagrange:"
   ]
  },
  {
   "cell_type": "code",
   "execution_count": 0,
   "metadata": {
    "colab": {},
    "colab_type": "code",
    "id": "71a5Wt0C0EBD"
   },
   "outputs": [],
   "source": []
  }
 ],
 "metadata": {
  "colab": {
   "name": "Aula 15 - Exercicios de Interpolação.ipynb",
   "provenance": [],
   "version": "0.3.2"
  },
  "kernelspec": {
   "display_name": "Python 3",
   "language": "python",
   "name": "python3"
  },
  "language_info": {
   "codemirror_mode": {
    "name": "ipython",
    "version": 3
   },
   "file_extension": ".py",
   "mimetype": "text/x-python",
   "name": "python",
   "nbconvert_exporter": "python",
   "pygments_lexer": "ipython3",
   "version": "3.7.3"
  }
 },
 "nbformat": 4,
 "nbformat_minor": 1
}
